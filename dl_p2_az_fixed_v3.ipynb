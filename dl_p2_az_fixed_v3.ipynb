{
 "metadata": {
  "kernelspec": {
   "name": "python3",
   "display_name": "Python 3"
  },
  "language_info": {
   "name": "python",
   "version": "3.10.12",
   "mimetype": "text/x-python",
   "codemirror_mode": {
    "name": "ipython",
    "version": 3
   },
   "pygments_lexer": "ipython3",
   "nbconvert_exporter": "python",
   "file_extension": ".py"
  },
  "accelerator": "GPU",
  "colab": {
   "gpuType": "A100",
   "provenance": []
  },
  "kaggle": {
   "accelerator": "gpu",
   "dataSources": [
    {
     "sourceId": 98084,
     "databundleVersionId": 11711500,
     "sourceType": "competition"
    }
   ],
   "dockerImageVersionId": 30918,
   "isInternetEnabled": true,
   "language": "python",
   "sourceType": "notebook",
   "isGpuEnabled": true
  }
 },
 "nbformat_minor": 5,
 "nbformat": 4,
 "cells": [
  {
   "id": "a02285e6",
   "cell_type": "markdown",
   "source": [
    "# Starter Notebook"
   ],
   "metadata": {
    "id": "a02285e6"
   }
  },
  {
   "id": "bdcc5329",
   "cell_type": "markdown",
   "source": [
    "Install and import required libraries"
   ],
   "metadata": {
    "id": "bdcc5329"
   }
  },
  {
   "id": "348ceed6-b684-46c3-8a32-9bb640c9a9d7",
   "cell_type": "code",
   "source": [
    "!pip install transformers datasets evaluate accelerate peft trl bitsandbytes\n",
    "!pip install nvidia-ml-py3"
   ],
   "metadata": {
    "id": "348ceed6-b684-46c3-8a32-9bb640c9a9d7",
    "trusted": true,
    "execution": {
     "iopub.status.busy": "2025-04-10T05:46:42.131908Z",
     "iopub.execute_input": "2025-04-10T05:46:42.132204Z",
     "iopub.status.idle": "2025-04-10T05:46:49.169230Z",
     "shell.execute_reply.started": "2025-04-10T05:46:42.132180Z",
     "shell.execute_reply": "2025-04-10T05:46:49.168300Z"
    },
    "colab": {
     "base_uri": "https://localhost:8080/"
    },
    "outputId": "46de22c7-a52a-4f97-cdb9-53460cf13107"
   },
   "outputs": [
    {
     "output_type": "stream",
     "name": "stdout",
     "text": [
      "Requirement already satisfied: transformers in /usr/local/lib/python3.11/dist-packages (4.50.3)\n",
      "Requirement already satisfied: datasets in /usr/local/lib/python3.11/dist-packages (3.5.0)\n",
      "Requirement already satisfied: evaluate in /usr/local/lib/python3.11/dist-packages (0.4.3)\n",
      "Requirement already satisfied: accelerate in /usr/local/lib/python3.11/dist-packages (1.5.2)\n",
      "Requirement already satisfied: peft in /usr/local/lib/python3.11/dist-packages (0.14.0)\n",
      "Requirement already satisfied: trl in /usr/local/lib/python3.11/dist-packages (0.16.1)\n",
      "Requirement already satisfied: bitsandbytes in /usr/local/lib/python3.11/dist-packages (0.45.5)\n",
      "Requirement already satisfied: filelock in /usr/local/lib/python3.11/dist-packages (from transformers) (3.18.0)\n",
      "Requirement already satisfied: huggingface-hub<1.0,>=0.26.0 in /usr/local/lib/python3.11/dist-packages (from transformers) (0.30.1)\n",
      "Requirement already satisfied: numpy>=1.17 in /usr/local/lib/python3.11/dist-packages (from transformers) (2.0.2)\n",
      "Requirement already satisfied: packaging>=20.0 in /usr/local/lib/python3.11/dist-packages (from transformers) (24.2)\n",
      "Requirement already satisfied: pyyaml>=5.1 in /usr/local/lib/python3.11/dist-packages (from transformers) (6.0.2)\n",
      "Requirement already satisfied: regex!=2019.12.17 in /usr/local/lib/python3.11/dist-packages (from transformers) (2024.11.6)\n",
      "Requirement already satisfied: requests in /usr/local/lib/python3.11/dist-packages (from transformers) (2.32.3)\n",
      "Requirement already satisfied: tokenizers<0.22,>=0.21 in /usr/local/lib/python3.11/dist-packages (from transformers) (0.21.1)\n",
      "Requirement already satisfied: safetensors>=0.4.3 in /usr/local/lib/python3.11/dist-packages (from transformers) (0.5.3)\n",
      "Requirement already satisfied: tqdm>=4.27 in /usr/local/lib/python3.11/dist-packages (from transformers) (4.67.1)\n",
      "Requirement already satisfied: pyarrow>=15.0.0 in /usr/local/lib/python3.11/dist-packages (from datasets) (18.1.0)\n",
      "Requirement already satisfied: dill<0.3.9,>=0.3.0 in /usr/local/lib/python3.11/dist-packages (from datasets) (0.3.8)\n",
      "Requirement already satisfied: pandas in /usr/local/lib/python3.11/dist-packages (from datasets) (2.2.2)\n",
      "Requirement already satisfied: xxhash in /usr/local/lib/python3.11/dist-packages (from datasets) (3.5.0)\n",
      "Requirement already satisfied: multiprocess<0.70.17 in /usr/local/lib/python3.11/dist-packages (from datasets) (0.70.16)\n",
      "Requirement already satisfied: fsspec<=2024.12.0,>=2023.1.0 in /usr/local/lib/python3.11/dist-packages (from fsspec[http]<=2024.12.0,>=2023.1.0->datasets) (2024.12.0)\n",
      "Requirement already satisfied: aiohttp in /usr/local/lib/python3.11/dist-packages (from datasets) (3.11.15)\n",
      "Requirement already satisfied: psutil in /usr/local/lib/python3.11/dist-packages (from accelerate) (5.9.5)\n",
      "Requirement already satisfied: torch>=2.0.0 in /usr/local/lib/python3.11/dist-packages (from accelerate) (2.6.0+cu124)\n",
      "Requirement already satisfied: rich in /usr/local/lib/python3.11/dist-packages (from trl) (13.9.4)\n",
      "Requirement already satisfied: aiohappyeyeballs>=2.3.0 in /usr/local/lib/python3.11/dist-packages (from aiohttp->datasets) (2.6.1)\n",
      "Requirement already satisfied: aiosignal>=1.1.2 in /usr/local/lib/python3.11/dist-packages (from aiohttp->datasets) (1.3.2)\n",
      "Requirement already satisfied: attrs>=17.3.0 in /usr/local/lib/python3.11/dist-packages (from aiohttp->datasets) (25.3.0)\n",
      "Requirement already satisfied: frozenlist>=1.1.1 in /usr/local/lib/python3.11/dist-packages (from aiohttp->datasets) (1.5.0)\n",
      "Requirement already satisfied: multidict<7.0,>=4.5 in /usr/local/lib/python3.11/dist-packages (from aiohttp->datasets) (6.3.2)\n",
      "Requirement already satisfied: propcache>=0.2.0 in /usr/local/lib/python3.11/dist-packages (from aiohttp->datasets) (0.3.1)\n",
      "Requirement already satisfied: yarl<2.0,>=1.17.0 in /usr/local/lib/python3.11/dist-packages (from aiohttp->datasets) (1.18.3)\n",
      "Requirement already satisfied: typing-extensions>=3.7.4.3 in /usr/local/lib/python3.11/dist-packages (from huggingface-hub<1.0,>=0.26.0->transformers) (4.13.1)\n",
      "Requirement already satisfied: charset-normalizer<4,>=2 in /usr/local/lib/python3.11/dist-packages (from requests->transformers) (3.4.1)\n",
      "Requirement already satisfied: idna<4,>=2.5 in /usr/local/lib/python3.11/dist-packages (from requests->transformers) (3.10)\n",
      "Requirement already satisfied: urllib3<3,>=1.21.1 in /usr/local/lib/python3.11/dist-packages (from requests->transformers) (2.3.0)\n",
      "Requirement already satisfied: certifi>=2017.4.17 in /usr/local/lib/python3.11/dist-packages (from requests->transformers) (2025.1.31)\n",
      "Requirement already satisfied: networkx in /usr/local/lib/python3.11/dist-packages (from torch>=2.0.0->accelerate) (3.4.2)\n",
      "Requirement already satisfied: jinja2 in /usr/local/lib/python3.11/dist-packages (from torch>=2.0.0->accelerate) (3.1.6)\n",
      "Requirement already satisfied: nvidia-cuda-nvrtc-cu12==12.4.127 in /usr/local/lib/python3.11/dist-packages (from torch>=2.0.0->accelerate) (12.4.127)\n",
      "Requirement already satisfied: nvidia-cuda-runtime-cu12==12.4.127 in /usr/local/lib/python3.11/dist-packages (from torch>=2.0.0->accelerate) (12.4.127)\n",
      "Requirement already satisfied: nvidia-cuda-cupti-cu12==12.4.127 in /usr/local/lib/python3.11/dist-packages (from torch>=2.0.0->accelerate) (12.4.127)\n",
      "Requirement already satisfied: nvidia-cudnn-cu12==9.1.0.70 in /usr/local/lib/python3.11/dist-packages (from torch>=2.0.0->accelerate) (9.1.0.70)\n",
      "Requirement already satisfied: nvidia-cublas-cu12==12.4.5.8 in /usr/local/lib/python3.11/dist-packages (from torch>=2.0.0->accelerate) (12.4.5.8)\n",
      "Requirement already satisfied: nvidia-cufft-cu12==11.2.1.3 in /usr/local/lib/python3.11/dist-packages (from torch>=2.0.0->accelerate) (11.2.1.3)\n",
      "Requirement already satisfied: nvidia-curand-cu12==10.3.5.147 in /usr/local/lib/python3.11/dist-packages (from torch>=2.0.0->accelerate) (10.3.5.147)\n",
      "Requirement already satisfied: nvidia-cusolver-cu12==11.6.1.9 in /usr/local/lib/python3.11/dist-packages (from torch>=2.0.0->accelerate) (11.6.1.9)\n",
      "Requirement already satisfied: nvidia-cusparse-cu12==12.3.1.170 in /usr/local/lib/python3.11/dist-packages (from torch>=2.0.0->accelerate) (12.3.1.170)\n",
      "Requirement already satisfied: nvidia-cusparselt-cu12==0.6.2 in /usr/local/lib/python3.11/dist-packages (from torch>=2.0.0->accelerate) (0.6.2)\n",
      "Requirement already satisfied: nvidia-nccl-cu12==2.21.5 in /usr/local/lib/python3.11/dist-packages (from torch>=2.0.0->accelerate) (2.21.5)\n",
      "Requirement already satisfied: nvidia-nvtx-cu12==12.4.127 in /usr/local/lib/python3.11/dist-packages (from torch>=2.0.0->accelerate) (12.4.127)\n",
      "Requirement already satisfied: nvidia-nvjitlink-cu12==12.4.127 in /usr/local/lib/python3.11/dist-packages (from torch>=2.0.0->accelerate) (12.4.127)\n",
      "Requirement already satisfied: triton==3.2.0 in /usr/local/lib/python3.11/dist-packages (from torch>=2.0.0->accelerate) (3.2.0)\n",
      "Requirement already satisfied: sympy==1.13.1 in /usr/local/lib/python3.11/dist-packages (from torch>=2.0.0->accelerate) (1.13.1)\n",
      "Requirement already satisfied: mpmath<1.4,>=1.1.0 in /usr/local/lib/python3.11/dist-packages (from sympy==1.13.1->torch>=2.0.0->accelerate) (1.3.0)\n",
      "Requirement already satisfied: python-dateutil>=2.8.2 in /usr/local/lib/python3.11/dist-packages (from pandas->datasets) (2.8.2)\n",
      "Requirement already satisfied: pytz>=2020.1 in /usr/local/lib/python3.11/dist-packages (from pandas->datasets) (2025.2)\n",
      "Requirement already satisfied: tzdata>=2022.7 in /usr/local/lib/python3.11/dist-packages (from pandas->datasets) (2025.2)\n",
      "Requirement already satisfied: markdown-it-py>=2.2.0 in /usr/local/lib/python3.11/dist-packages (from rich->trl) (3.0.0)\n",
      "Requirement already satisfied: pygments<3.0.0,>=2.13.0 in /usr/local/lib/python3.11/dist-packages (from rich->trl) (2.18.0)\n",
      "Requirement already satisfied: mdurl~=0.1 in /usr/local/lib/python3.11/dist-packages (from markdown-it-py>=2.2.0->rich->trl) (0.1.2)\n",
      "Requirement already satisfied: six>=1.5 in /usr/local/lib/python3.11/dist-packages (from python-dateutil>=2.8.2->pandas->datasets) (1.17.0)\n",
      "Requirement already satisfied: MarkupSafe>=2.0 in /usr/local/lib/python3.11/dist-packages (from jinja2->torch>=2.0.0->accelerate) (3.0.2)\n",
      "Requirement already satisfied: nvidia-ml-py3 in /usr/local/lib/python3.11/dist-packages (7.352.0)\n"
     ]
    }
   ],
   "execution_count": 1
  },
  {
   "id": "cca64f38-d8d2-4313-8295-fbbd43c2a263",
   "cell_type": "code",
   "source": [
    "import os\n",
    "import pandas as pd\n",
    "import torch\n",
    "from transformers import RobertaModel, RobertaTokenizer, TrainingArguments, Trainer, DataCollatorWithPadding, RobertaForSequenceClassification\n",
    "from peft import LoraConfig, get_peft_model, PeftModel\n",
    "from datasets import load_dataset, Dataset, ClassLabel\n",
    "import pickle"
   ],
   "metadata": {
    "id": "cca64f38-d8d2-4313-8295-fbbd43c2a263",
    "trusted": true,
    "execution": {
     "iopub.status.busy": "2025-04-10T05:46:49.170796Z",
     "iopub.execute_input": "2025-04-10T05:46:49.171035Z",
     "iopub.status.idle": "2025-04-10T05:46:49.175872Z",
     "shell.execute_reply.started": "2025-04-10T05:46:49.171014Z",
     "shell.execute_reply": "2025-04-10T05:46:49.175038Z"
    }
   },
   "outputs": [],
   "execution_count": 3
  },
  {
   "id": "59d6e377",
   "cell_type": "markdown",
   "source": [
    "## Load Tokenizer and Preprocess Data"
   ],
   "metadata": {
    "id": "59d6e377"
   }
  },
  {
   "id": "21f42747-f551-40a5-a95f-7affb1eba4a3",
   "cell_type": "code",
   "source": [
    "base_model = 'roberta-base'\n",
    "\n",
    "dataset = load_dataset('ag_news', split='train')\n",
    "tokenizer = RobertaTokenizer.from_pretrained(base_model)\n",
    "\n",
    "def preprocess(examples):\n",
    "    tokenized = tokenizer(examples['text'], truncation=True, padding=True)\n",
    "    return tokenized\n",
    "\n",
    "tokenized_dataset = dataset.map(preprocess, batched=True,  remove_columns=[\"text\"])\n",
    "tokenized_dataset = tokenized_dataset.rename_column(\"label\", \"labels\")\n",
    "tokenized_dataset"
   ],
   "metadata": {
    "id": "21f42747-f551-40a5-a95f-7affb1eba4a3",
    "trusted": true,
    "execution": {
     "iopub.status.busy": "2025-04-10T05:46:49.177393Z",
     "iopub.execute_input": "2025-04-10T05:46:49.177620Z",
     "iopub.status.idle": "2025-04-10T05:46:55.670234Z",
     "shell.execute_reply.started": "2025-04-10T05:46:49.177602Z",
     "shell.execute_reply": "2025-04-10T05:46:55.669361Z"
    },
    "colab": {
     "base_uri": "https://localhost:8080/"
    },
    "outputId": "8cc3a975-a0ec-4c4b-f14b-2f2bb641b609"
   },
   "outputs": [
    {
     "output_type": "stream",
     "name": "stderr",
     "text": [
      "/usr/local/lib/python3.11/dist-packages/huggingface_hub/utils/_auth.py:94: UserWarning: \n",
      "The secret `HF_TOKEN` does not exist in your Colab secrets.\n",
      "To authenticate with the Hugging Face Hub, create a token in your settings tab (https://huggingface.co/settings/tokens), set it as secret in your Google Colab and restart your session.\n",
      "You will be able to reuse this secret in all of your notebooks.\n",
      "Please note that authentication is recommended but still optional to access public models or datasets.\n",
      "  warnings.warn(\n"
     ]
    },
    {
     "output_type": "execute_result",
     "data": {
      "text/plain": [
       "Dataset({\n",
       "    features: ['labels', 'input_ids', 'attention_mask'],\n",
       "    num_rows: 120000\n",
       "})"
      ]
     },
     "metadata": {},
     "execution_count": 4
    }
   ],
   "execution_count": 4
  },
  {
   "id": "e483f533-6979-40da-a58b-4ec32db4c9ba",
   "cell_type": "code",
   "source": [
    "dataset[100000]"
   ],
   "metadata": {
    "trusted": true,
    "execution": {
     "iopub.status.busy": "2025-04-10T05:46:55.671616Z",
     "iopub.execute_input": "2025-04-10T05:46:55.671958Z",
     "iopub.status.idle": "2025-04-10T05:46:55.677471Z",
     "shell.execute_reply.started": "2025-04-10T05:46:55.671927Z",
     "shell.execute_reply": "2025-04-10T05:46:55.676580Z"
    },
    "colab": {
     "base_uri": "https://localhost:8080/"
    },
    "id": "e483f533-6979-40da-a58b-4ec32db4c9ba",
    "outputId": "b0cd0b04-2d55-4d41-c148-e11a4b382765"
   },
   "outputs": [
    {
     "output_type": "execute_result",
     "data": {
      "text/plain": [
       "{'text': \"Venezuelan Car-Bomb Suspect Killed, Weapons Found  CARACAS, Venezuela (Reuters) - A Venezuelan lawyer  suspected in last week's bombing murder of a top state  prosecutor was killed in a gunfight with police on Tuesday  after he tried to ram detectives with his car and opened fire  on them, officials said.\",\n",
       " 'label': 0}"
      ]
     },
     "metadata": {},
     "execution_count": 5
    }
   ],
   "execution_count": 5
  },
  {
   "id": "9e07f641-bec0-43a6-8c26-510d7642916a",
   "cell_type": "code",
   "source": [
    "# Extract the number of classess and their names\n",
    "num_labels = dataset.features['label'].num_classes\n",
    "class_names = dataset.features[\"label\"].names\n",
    "print(f\"number of labels: {num_labels}\")\n",
    "print(f\"the labels: {class_names}\")\n",
    "\n",
    "# Create an id2label mapping\n",
    "# We will need this for our classifier.\n",
    "id2label = {i: label for i, label in enumerate(class_names)}\n",
    "\n",
    "data_collator = DataCollatorWithPadding(tokenizer=tokenizer, return_tensors=\"pt\")"
   ],
   "metadata": {
    "id": "9e07f641-bec0-43a6-8c26-510d7642916a",
    "trusted": true,
    "execution": {
     "iopub.status.busy": "2025-04-10T05:46:55.678313Z",
     "iopub.execute_input": "2025-04-10T05:46:55.678564Z",
     "iopub.status.idle": "2025-04-10T05:46:55.693918Z",
     "shell.execute_reply.started": "2025-04-10T05:46:55.678545Z",
     "shell.execute_reply": "2025-04-10T05:46:55.693017Z"
    },
    "colab": {
     "base_uri": "https://localhost:8080/"
    },
    "outputId": "b9aeee04-bfd2-44c3-c47d-62d0bc19b70b"
   },
   "outputs": [
    {
     "output_type": "stream",
     "name": "stdout",
     "text": [
      "number of labels: 4\n",
      "the labels: ['World', 'Sports', 'Business', 'Sci/Tech']\n"
     ]
    }
   ],
   "execution_count": 6
  },
  {
   "id": "de31f01d-2eb5-4167-a870-a35c08506667",
   "cell_type": "code",
   "source": [
    "id2label"
   ],
   "metadata": {
    "trusted": true,
    "execution": {
     "iopub.status.busy": "2025-04-10T05:46:55.694855Z",
     "iopub.execute_input": "2025-04-10T05:46:55.695149Z",
     "iopub.status.idle": "2025-04-10T05:46:55.707741Z",
     "shell.execute_reply.started": "2025-04-10T05:46:55.695121Z",
     "shell.execute_reply": "2025-04-10T05:46:55.706990Z"
    },
    "colab": {
     "base_uri": "https://localhost:8080/"
    },
    "id": "de31f01d-2eb5-4167-a870-a35c08506667",
    "outputId": "39bb0342-4bcc-4005-b73c-834f65500cd7"
   },
   "outputs": [
    {
     "output_type": "execute_result",
     "data": {
      "text/plain": [
       "{0: 'World', 1: 'Sports', 2: 'Business', 3: 'Sci/Tech'}"
      ]
     },
     "metadata": {},
     "execution_count": 7
    }
   ],
   "execution_count": 7
  },
  {
   "id": "c9e24afd",
   "cell_type": "markdown",
   "source": [
    "## Load Pre-trained Model\n",
    "Set up config for pretrained model and download it from hugging face"
   ],
   "metadata": {
    "id": "c9e24afd"
   }
  },
  {
   "id": "262a8416-a59c-4ea1-95d9-0b1f81d6094c",
   "cell_type": "code",
   "source": [
    "model = RobertaForSequenceClassification.from_pretrained(\n",
    "    base_model,\n",
    "    id2label=id2label)\n",
    "model"
   ],
   "metadata": {
    "id": "262a8416-a59c-4ea1-95d9-0b1f81d6094c",
    "trusted": true,
    "execution": {
     "iopub.status.busy": "2025-04-10T05:46:55.708457Z",
     "iopub.execute_input": "2025-04-10T05:46:55.708724Z",
     "iopub.status.idle": "2025-04-10T05:46:56.445134Z",
     "shell.execute_reply.started": "2025-04-10T05:46:55.708704Z",
     "shell.execute_reply": "2025-04-10T05:46:56.444417Z"
    },
    "colab": {
     "base_uri": "https://localhost:8080/"
    },
    "outputId": "0a8cb1a2-e250-48f4-9c26-49443935cd58"
   },
   "outputs": [
    {
     "output_type": "stream",
     "name": "stderr",
     "text": [
      "Some weights of RobertaForSequenceClassification were not initialized from the model checkpoint at roberta-base and are newly initialized: ['classifier.dense.bias', 'classifier.dense.weight', 'classifier.out_proj.bias', 'classifier.out_proj.weight']\n",
      "You should probably TRAIN this model on a down-stream task to be able to use it for predictions and inference.\n"
     ]
    },
    {
     "output_type": "execute_result",
     "data": {
      "text/plain": [
       "RobertaForSequenceClassification(\n",
       "  (roberta): RobertaModel(\n",
       "    (embeddings): RobertaEmbeddings(\n",
       "      (word_embeddings): Embedding(50265, 768, padding_idx=1)\n",
       "      (position_embeddings): Embedding(514, 768, padding_idx=1)\n",
       "      (token_type_embeddings): Embedding(1, 768)\n",
       "      (LayerNorm): LayerNorm((768,), eps=1e-05, elementwise_affine=True)\n",
       "      (dropout): Dropout(p=0.1, inplace=False)\n",
       "    )\n",
       "    (encoder): RobertaEncoder(\n",
       "      (layer): ModuleList(\n",
       "        (0-11): 12 x RobertaLayer(\n",
       "          (attention): RobertaAttention(\n",
       "            (self): RobertaSdpaSelfAttention(\n",
       "              (query): Linear(in_features=768, out_features=768, bias=True)\n",
       "              (key): Linear(in_features=768, out_features=768, bias=True)\n",
       "              (value): Linear(in_features=768, out_features=768, bias=True)\n",
       "              (dropout): Dropout(p=0.1, inplace=False)\n",
       "            )\n",
       "            (output): RobertaSelfOutput(\n",
       "              (dense): Linear(in_features=768, out_features=768, bias=True)\n",
       "              (LayerNorm): LayerNorm((768,), eps=1e-05, elementwise_affine=True)\n",
       "              (dropout): Dropout(p=0.1, inplace=False)\n",
       "            )\n",
       "          )\n",
       "          (intermediate): RobertaIntermediate(\n",
       "            (dense): Linear(in_features=768, out_features=3072, bias=True)\n",
       "            (intermediate_act_fn): GELUActivation()\n",
       "          )\n",
       "          (output): RobertaOutput(\n",
       "            (dense): Linear(in_features=3072, out_features=768, bias=True)\n",
       "            (LayerNorm): LayerNorm((768,), eps=1e-05, elementwise_affine=True)\n",
       "            (dropout): Dropout(p=0.1, inplace=False)\n",
       "          )\n",
       "        )\n",
       "      )\n",
       "    )\n",
       "  )\n",
       "  (classifier): RobertaClassificationHead(\n",
       "    (dense): Linear(in_features=768, out_features=768, bias=True)\n",
       "    (dropout): Dropout(p=0.1, inplace=False)\n",
       "    (out_proj): Linear(in_features=768, out_features=4, bias=True)\n",
       "  )\n",
       ")"
      ]
     },
     "metadata": {},
     "execution_count": 8
    }
   ],
   "execution_count": 8
  },
  {
   "id": "f265839d-a088-4693-8474-862641de11ed",
   "cell_type": "markdown",
   "source": [
    "## Anything from here on can be modified"
   ],
   "metadata": {
    "id": "f265839d-a088-4693-8474-862641de11ed"
   }
  },
  {
   "id": "e7413430-be57-482b-856e-36bd4ba799df",
   "cell_type": "code",
   "source": [
    "# Split the original training set\n",
    "split_datasets = tokenized_dataset.train_test_split(test_size=640, seed=42)\n",
    "train_dataset = split_datasets['train']\n",
    "eval_dataset = split_datasets['test']"
   ],
   "metadata": {
    "id": "e7413430-be57-482b-856e-36bd4ba799df",
    "trusted": true,
    "execution": {
     "iopub.status.busy": "2025-04-10T05:46:56.447566Z",
     "iopub.execute_input": "2025-04-10T05:46:56.447792Z",
     "iopub.status.idle": "2025-04-10T05:46:56.457136Z",
     "shell.execute_reply.started": "2025-04-10T05:46:56.447774Z",
     "shell.execute_reply": "2025-04-10T05:46:56.456495Z"
    }
   },
   "outputs": [],
   "execution_count": 9
  },
  {
   "id": "652452e3",
   "cell_type": "markdown",
   "source": [
    "## Setup LoRA Config\n",
    "Setup PEFT config and get peft model for finetuning"
   ],
   "metadata": {
    "id": "652452e3"
   }
  },
  {
   "id": "bd0ca0ea-86b8-47f7-8cbf-83da25685876",
   "cell_type": "code",
   "source": [
    "# PEFT Config\n",
    "peft_config = LoraConfig(\n",
    "    r=2,\n",
    "    lora_alpha=4,\n",
    "    lora_dropout=0.05,\n",
    "    bias = 'none',\n",
    "    target_modules = ['query'],\n",
    "    task_type=\"SEQ_CLS\",\n",
    ")"
   ],
   "metadata": {
    "id": "bd0ca0ea-86b8-47f7-8cbf-83da25685876",
    "trusted": true,
    "execution": {
     "iopub.status.busy": "2025-04-10T05:46:56.458362Z",
     "iopub.execute_input": "2025-04-10T05:46:56.458616Z",
     "iopub.status.idle": "2025-04-10T05:46:56.467419Z",
     "shell.execute_reply.started": "2025-04-10T05:46:56.458592Z",
     "shell.execute_reply": "2025-04-10T05:46:56.466597Z"
    }
   },
   "outputs": [],
   "execution_count": 10
  },
  {
   "id": "6ec2739d-76b6-4fde-91c2-0fc49e1884b0",
   "cell_type": "code",
   "source": [
    "peft_model = get_peft_model(model, peft_config)\n",
    "peft_model"
   ],
   "metadata": {
    "id": "6ec2739d-76b6-4fde-91c2-0fc49e1884b0",
    "trusted": true,
    "execution": {
     "iopub.status.busy": "2025-04-10T05:46:56.468215Z",
     "iopub.execute_input": "2025-04-10T05:46:56.468498Z",
     "iopub.status.idle": "2025-04-10T05:46:56.505008Z",
     "shell.execute_reply.started": "2025-04-10T05:46:56.468470Z",
     "shell.execute_reply": "2025-04-10T05:46:56.504154Z"
    },
    "colab": {
     "base_uri": "https://localhost:8080/"
    },
    "outputId": "693dcd05-cedd-4914-8f34-5bc6907b1252"
   },
   "outputs": [
    {
     "output_type": "execute_result",
     "data": {
      "text/plain": [
       "PeftModelForSequenceClassification(\n",
       "  (base_model): LoraModel(\n",
       "    (model): RobertaForSequenceClassification(\n",
       "      (roberta): RobertaModel(\n",
       "        (embeddings): RobertaEmbeddings(\n",
       "          (word_embeddings): Embedding(50265, 768, padding_idx=1)\n",
       "          (position_embeddings): Embedding(514, 768, padding_idx=1)\n",
       "          (token_type_embeddings): Embedding(1, 768)\n",
       "          (LayerNorm): LayerNorm((768,), eps=1e-05, elementwise_affine=True)\n",
       "          (dropout): Dropout(p=0.1, inplace=False)\n",
       "        )\n",
       "        (encoder): RobertaEncoder(\n",
       "          (layer): ModuleList(\n",
       "            (0-11): 12 x RobertaLayer(\n",
       "              (attention): RobertaAttention(\n",
       "                (self): RobertaSdpaSelfAttention(\n",
       "                  (query): lora.Linear(\n",
       "                    (base_layer): Linear(in_features=768, out_features=768, bias=True)\n",
       "                    (lora_dropout): ModuleDict(\n",
       "                      (default): Dropout(p=0.05, inplace=False)\n",
       "                    )\n",
       "                    (lora_A): ModuleDict(\n",
       "                      (default): Linear(in_features=768, out_features=2, bias=False)\n",
       "                    )\n",
       "                    (lora_B): ModuleDict(\n",
       "                      (default): Linear(in_features=2, out_features=768, bias=False)\n",
       "                    )\n",
       "                    (lora_embedding_A): ParameterDict()\n",
       "                    (lora_embedding_B): ParameterDict()\n",
       "                    (lora_magnitude_vector): ModuleDict()\n",
       "                  )\n",
       "                  (key): Linear(in_features=768, out_features=768, bias=True)\n",
       "                  (value): Linear(in_features=768, out_features=768, bias=True)\n",
       "                  (dropout): Dropout(p=0.1, inplace=False)\n",
       "                )\n",
       "                (output): RobertaSelfOutput(\n",
       "                  (dense): Linear(in_features=768, out_features=768, bias=True)\n",
       "                  (LayerNorm): LayerNorm((768,), eps=1e-05, elementwise_affine=True)\n",
       "                  (dropout): Dropout(p=0.1, inplace=False)\n",
       "                )\n",
       "              )\n",
       "              (intermediate): RobertaIntermediate(\n",
       "                (dense): Linear(in_features=768, out_features=3072, bias=True)\n",
       "                (intermediate_act_fn): GELUActivation()\n",
       "              )\n",
       "              (output): RobertaOutput(\n",
       "                (dense): Linear(in_features=3072, out_features=768, bias=True)\n",
       "                (LayerNorm): LayerNorm((768,), eps=1e-05, elementwise_affine=True)\n",
       "                (dropout): Dropout(p=0.1, inplace=False)\n",
       "              )\n",
       "            )\n",
       "          )\n",
       "        )\n",
       "      )\n",
       "      (classifier): ModulesToSaveWrapper(\n",
       "        (original_module): RobertaClassificationHead(\n",
       "          (dense): Linear(in_features=768, out_features=768, bias=True)\n",
       "          (dropout): Dropout(p=0.1, inplace=False)\n",
       "          (out_proj): Linear(in_features=768, out_features=4, bias=True)\n",
       "        )\n",
       "        (modules_to_save): ModuleDict(\n",
       "          (default): RobertaClassificationHead(\n",
       "            (dense): Linear(in_features=768, out_features=768, bias=True)\n",
       "            (dropout): Dropout(p=0.1, inplace=False)\n",
       "            (out_proj): Linear(in_features=768, out_features=4, bias=True)\n",
       "          )\n",
       "        )\n",
       "      )\n",
       "    )\n",
       "  )\n",
       ")"
      ]
     },
     "metadata": {},
     "execution_count": 11
    }
   ],
   "execution_count": 11
  },
  {
   "id": "a769f54e-05ad-4e3c-aae8-d00d1d9dfb2f",
   "cell_type": "code",
   "source": [
    "# print(\"Trainable parameters:\")\n",
    "# for name, param in peft_model.named_parameters():\n",
    "#     if param.requires_grad:\n",
    "#         print(name)"
   ],
   "metadata": {
    "id": "a769f54e-05ad-4e3c-aae8-d00d1d9dfb2f",
    "trusted": true,
    "execution": {
     "iopub.status.busy": "2025-04-10T05:46:56.505886Z",
     "iopub.execute_input": "2025-04-10T05:46:56.506122Z",
     "iopub.status.idle": "2025-04-10T05:46:56.509452Z",
     "shell.execute_reply.started": "2025-04-10T05:46:56.506102Z",
     "shell.execute_reply": "2025-04-10T05:46:56.508661Z"
    }
   },
   "outputs": [],
   "execution_count": 12
  },
  {
   "id": "da45f85c-b016-4c49-8808-6eafa7cb5d1b",
   "cell_type": "code",
   "source": [
    "print('PEFT Model')\n",
    "peft_model.print_trainable_parameters()"
   ],
   "metadata": {
    "id": "da45f85c-b016-4c49-8808-6eafa7cb5d1b",
    "trusted": true,
    "execution": {
     "iopub.status.busy": "2025-04-10T05:46:56.510267Z",
     "iopub.execute_input": "2025-04-10T05:46:56.510521Z",
     "iopub.status.idle": "2025-04-10T05:46:56.527230Z",
     "shell.execute_reply.started": "2025-04-10T05:46:56.510501Z",
     "shell.execute_reply": "2025-04-10T05:46:56.526484Z"
    },
    "colab": {
     "base_uri": "https://localhost:8080/"
    },
    "outputId": "39b0bb3a-6b41-4cc4-d605-6535609f541c"
   },
   "outputs": [
    {
     "output_type": "stream",
     "name": "stdout",
     "text": [
      "PEFT Model\n",
      "trainable params: 630,532 || all params: 125,279,240 || trainable%: 0.5033\n"
     ]
    }
   ],
   "execution_count": 13
  },
  {
   "id": "12284b58",
   "cell_type": "markdown",
   "source": [
    "## Training Setup"
   ],
   "metadata": {
    "id": "12284b58"
   }
  },
  {
   "id": "0ee64c43-fe38-479a-b3c5-7d939a3db4c1",
   "cell_type": "code",
   "source": [
    "# To track evaluation accuracy during training\n",
    "from sklearn.metrics import accuracy_score, precision_score, recall_score, f1_score\n",
    "\n",
    "def compute_metrics(pred):\n",
    "    labels = pred.label_ids\n",
    "    preds = pred.predictions.argmax(-1)\n",
    "    # Calculate accuracy\n",
    "    accuracy = accuracy_score(labels, preds)\n",
    "    return {\n",
    "        'accuracy': accuracy\n",
    "    }"
   ],
   "metadata": {
    "id": "0ee64c43-fe38-479a-b3c5-7d939a3db4c1",
    "trusted": true,
    "execution": {
     "iopub.status.busy": "2025-04-10T05:46:56.527915Z",
     "iopub.execute_input": "2025-04-10T05:46:56.528095Z",
     "iopub.status.idle": "2025-04-10T05:46:56.540891Z",
     "shell.execute_reply.started": "2025-04-10T05:46:56.528079Z",
     "shell.execute_reply": "2025-04-10T05:46:56.540045Z"
    }
   },
   "outputs": [],
   "execution_count": 14
  },
  {
   "id": "768b4917-65de-4e55-ae7f-698e287535d4",
   "cell_type": "code",
   "source": [
    "# Setup Training args\n",
    "output_dir = \"results\"\n",
    "training_args = TrainingArguments(\n",
    "    output_dir=output_dir,\n",
    "    report_to='none',\n",
    "    eval_strategy='epoch',\n",
    "    learning_rate=5e-4,\n",
    "    num_train_epochs=5,\n",
    "    dataloader_num_workers=8,\n",
    "    per_device_train_batch_size=32,\n",
    "    per_device_eval_batch_size=64,\n",
    "    optim=\"adamw_torch\",\n",
    "    logging_dir=\"./logs\",\n",
    "    weight_decay=0.01,\n",
    "    gradient_checkpointing=False,\n",
    "    gradient_checkpointing_kwargs={'use_reentrant':True}\n",
    ")\n",
    "\n",
    "def get_trainer(model):\n",
    "      return  Trainer(\n",
    "          model=model,\n",
    "          args=training_args,\n",
    "          compute_metrics=compute_metrics,\n",
    "          train_dataset=train_dataset,\n",
    "          eval_dataset=eval_dataset,\n",
    "          data_collator=data_collator,\n",
    "      )"
   ],
   "metadata": {
    "id": "768b4917-65de-4e55-ae7f-698e287535d4",
    "trusted": true,
    "execution": {
     "iopub.status.busy": "2025-04-10T05:46:56.541732Z",
     "iopub.execute_input": "2025-04-10T05:46:56.542037Z",
     "iopub.status.idle": "2025-04-10T05:46:56.579938Z",
     "shell.execute_reply.started": "2025-04-10T05:46:56.542017Z",
     "shell.execute_reply": "2025-04-10T05:46:56.578985Z"
    }
   },
   "outputs": [],
   "execution_count": 15
  },
  {
   "id": "9b848278",
   "cell_type": "markdown",
   "source": [
    "### Start Training"
   ],
   "metadata": {
    "id": "9b848278"
   }
  },
  {
   "id": "98d9d57d-b57f-4acc-80fb-fc5443e75515",
   "cell_type": "code",
   "source": [
    "# Use GPU if available\n",
    "device = torch.device(\"cuda\" if torch.cuda.is_available() else \"cpu\")\n",
    "print(f\"Using device: {device}\")\n",
    "\n",
    "peft_model.to(device)\n",
    "\n",
    "peft_lora_finetuning_trainer = get_trainer(peft_model)\n",
    "\n",
    "result = peft_lora_finetuning_trainer.train()"
   ],
   "metadata": {
    "id": "98d9d57d-b57f-4acc-80fb-fc5443e75515",
    "trusted": true,
    "execution": {
     "iopub.status.busy": "2025-04-10T05:46:56.580771Z",
     "iopub.execute_input": "2025-04-10T05:46:56.580992Z",
     "iopub.status.idle": "2025-04-10T05:49:16.655244Z",
     "shell.execute_reply.started": "2025-04-10T05:46:56.580973Z",
     "shell.execute_reply": "2025-04-10T05:49:16.654106Z"
    },
    "colab": {
     "base_uri": "https://localhost:8080/",
     "height": 288
    },
    "collapsed": true,
    "outputId": "1e4cbadf-a5fa-4eef-a84b-b571879a6b5d"
   },
   "outputs": [
    {
     "output_type": "stream",
     "name": "stdout",
     "text": [
      "Using device: cuda\n"
     ]
    },
    {
     "output_type": "stream",
     "name": "stderr",
     "text": [
      "No label_names provided for model class `PeftModelForSequenceClassification`. Since `PeftModel` hides base models input arguments, if label_names is not given, label_names can't be set automatically within `Trainer`. Note that empty label_names list will be used instead.\n"
     ]
    },
    {
     "output_type": "display_data",
     "data": {
      "text/plain": [
       "<IPython.core.display.HTML object>"
      ],
      "text/html": [
       "\n",
       "    <div>\n",
       "      \n",
       "      <progress value='18650' max='18650' style='width:300px; height:20px; vertical-align: middle;'></progress>\n",
       "      [18650/18650 1:26:22, Epoch 5/5]\n",
       "    </div>\n",
       "    <table border=\"1\" class=\"dataframe\">\n",
       "  <thead>\n",
       " <tr style=\"text-align: left;\">\n",
       "      <th>Epoch</th>\n",
       "      <th>Training Loss</th>\n",
       "      <th>Validation Loss</th>\n",
       "      <th>Accuracy</th>\n",
       "    </tr>\n",
       "  </thead>\n",
       "  <tbody>\n",
       "    <tr>\n",
       "      <td>1</td>\n",
       "      <td>0.220000</td>\n",
       "      <td>0.224338</td>\n",
       "      <td>0.915625</td>\n",
       "    </tr>\n",
       "    <tr>\n",
       "      <td>2</td>\n",
       "      <td>0.200300</td>\n",
       "      <td>0.216147</td>\n",
       "      <td>0.925000</td>\n",
       "    </tr>\n",
       "    <tr>\n",
       "      <td>3</td>\n",
       "      <td>0.187200</td>\n",
       "      <td>0.199705</td>\n",
       "      <td>0.932813</td>\n",
       "    </tr>\n",
       "    <tr>\n",
       "      <td>4</td>\n",
       "      <td>0.179300</td>\n",
       "      <td>0.188513</td>\n",
       "      <td>0.940625</td>\n",
       "    </tr>\n",
       "    <tr>\n",
       "      <td>5</td>\n",
       "      <td>0.170800</td>\n",
       "      <td>0.191597</td>\n",
       "      <td>0.937500</td>\n",
       "    </tr>\n",
       "  </tbody>\n",
       "</table><p>"
      ]
     },
     "metadata": {}
    }
   ],
   "execution_count": 16
  },
  {
   "id": "5183be7e-514f-4e64-a6f4-314a827e6be5",
   "cell_type": "markdown",
   "source": [
    "## Evaluate Finetuned Model\n"
   ],
   "metadata": {
    "id": "5183be7e-514f-4e64-a6f4-314a827e6be5"
   }
  },
  {
   "id": "038198cf-0953-47e7-bd47-b073d05f8378",
   "cell_type": "markdown",
   "source": [
    "### Performing Inference on Custom Input\n",
    "Uncomment following functions for running inference on custom inputs"
   ],
   "metadata": {
    "id": "038198cf-0953-47e7-bd47-b073d05f8378"
   }
  },
  {
   "id": "f88ad420-3f46-4eff-9d71-0ce388163062",
   "cell_type": "code",
   "source": [
    "def classify(model, tokenizer, text):\n",
    "    device = torch.device(\"cuda\" if torch.cuda.is_available() else \"cpu\")\n",
    "    inputs = tokenizer(text, truncation=True, padding=True, return_tensors=\"pt\").to(device)\n",
    "    output = model(**inputs)\n",
    "\n",
    "    prediction = output.logits.argmax(dim=-1).item()\n",
    "\n",
    "    print(f'\\n Class: {prediction}, Label: {id2label[prediction]}, Text: {text}')\n",
    "    return id2label[prediction]"
   ],
   "metadata": {
    "id": "f88ad420-3f46-4eff-9d71-0ce388163062",
    "trusted": true,
    "execution": {
     "iopub.status.busy": "2025-04-10T05:49:16.655950Z",
     "iopub.status.idle": "2025-04-10T05:49:16.656210Z",
     "shell.execute_reply": "2025-04-10T05:49:16.656096Z"
    }
   },
   "outputs": [],
   "execution_count": 17
  },
  {
   "id": "fc52bb94-5e13-4943-9225-a6d7fd053579",
   "cell_type": "code",
   "source": [
    "classify( peft_model, tokenizer, \"Kederis proclaims innocence Olympic champion Kostas Kederis today left hospital ahead of his date with IOC inquisitors claiming his ...\")\n",
    "classify( peft_model, tokenizer, \"Wall St. Bears Claw Back Into the Black (Reuters) Reuters - Short-sellers, Wall Street's dwindling\\band of ultra-cynics, are seeing green again.\")"
   ],
   "metadata": {
    "id": "fc52bb94-5e13-4943-9225-a6d7fd053579",
    "trusted": true,
    "execution": {
     "iopub.status.busy": "2025-04-10T05:49:16.657204Z",
     "iopub.status.idle": "2025-04-10T05:49:16.657531Z",
     "shell.execute_reply": "2025-04-10T05:49:16.657416Z"
    },
    "colab": {
     "base_uri": "https://localhost:8080/",
     "height": 127
    },
    "outputId": "fc864253-d716-4713-f874-2127d48264c4"
   },
   "outputs": [
    {
     "output_type": "stream",
     "name": "stdout",
     "text": [
      "\n",
      " Class: 1, Label: Sports, Text: Kederis proclaims innocence Olympic champion Kostas Kederis today left hospital ahead of his date with IOC inquisitors claiming his ...\n",
      "\n",
      " Class: 2, Label: Business, Text: Wall St. Bears Claw Back Into the Black (Reuters) Reuters - Short-sellers, Wall Street's dwindling\band of ultra-cynics, are seeing green again.\n"
     ]
    },
    {
     "output_type": "execute_result",
     "data": {
      "text/plain": [
       "'Business'"
      ],
      "application/vnd.google.colaboratory.intrinsic+json": {
       "type": "string"
      }
     },
     "metadata": {},
     "execution_count": 18
    }
   ],
   "execution_count": 18
  },
  {
   "id": "68a3e276-bf8c-4403-8a48-5ef19f2beccf",
   "cell_type": "markdown",
   "source": [
    "### Run Inference on eval_dataset"
   ],
   "metadata": {
    "id": "68a3e276-bf8c-4403-8a48-5ef19f2beccf"
   }
  },
  {
   "id": "ebbc20a2-a1c0-4cb7-b842-f52e4de61ed5",
   "cell_type": "code",
   "source": [
    "from torch.utils.data import DataLoader\n",
    "import evaluate\n",
    "from tqdm import tqdm\n",
    "\n",
    "def evaluate_model(inference_model, dataset, labelled=True, batch_size=8, data_collator=None):\n",
    "    \"\"\"\n",
    "    Evaluate a PEFT model on a dataset.\n",
    "\n",
    "    Args:\n",
    "        inference_model: The model to evaluate.\n",
    "        dataset: The dataset (Hugging Face Dataset) to run inference on.\n",
    "        labelled (bool): If True, the dataset includes labels and metrics will be computed.\n",
    "                         If False, only predictions will be returned.\n",
    "        batch_size (int): Batch size for inference.\n",
    "        data_collator: Function to collate batches. If None, the default collate_fn is used.\n",
    "\n",
    "    Returns:\n",
    "        If labelled is True, returns a tuple (metrics, predictions)\n",
    "        If labelled is False, returns the predictions.\n",
    "    \"\"\"\n",
    "    # Create the DataLoader\n",
    "    eval_dataloader = DataLoader(dataset, batch_size=batch_size, collate_fn=data_collator)\n",
    "    device = torch.device(\"cuda\" if torch.cuda.is_available() else \"cpu\")\n",
    "\n",
    "    inference_model.to(device)\n",
    "    inference_model.eval()\n",
    "\n",
    "    all_predictions = []\n",
    "    if labelled:\n",
    "        metric = evaluate.load('accuracy')\n",
    "\n",
    "    # Loop over the DataLoader\n",
    "    for batch in tqdm(eval_dataloader):\n",
    "        # Move each tensor in the batch to the device\n",
    "        batch = {k: v.to(device) for k, v in batch.items()}\n",
    "        with torch.no_grad():\n",
    "            outputs = inference_model(**batch)\n",
    "        predictions = outputs.logits.argmax(dim=-1)\n",
    "        all_predictions.append(predictions.cpu())\n",
    "\n",
    "        if labelled:\n",
    "            # Expecting that labels are provided under the \"labels\" key.\n",
    "            references = batch[\"labels\"]\n",
    "            metric.add_batch(\n",
    "                predictions=predictions.cpu().numpy(),\n",
    "                references=references.cpu().numpy()\n",
    "            )\n",
    "\n",
    "    # Concatenate predictions from all batches\n",
    "    all_predictions = torch.cat(all_predictions, dim=0)\n",
    "\n",
    "    if labelled:\n",
    "        eval_metric = metric.compute()\n",
    "        print(\"Evaluation Metric:\", eval_metric)\n",
    "        return eval_metric, all_predictions\n",
    "    else:\n",
    "        return all_predictions"
   ],
   "metadata": {
    "id": "ebbc20a2-a1c0-4cb7-b842-f52e4de61ed5",
    "trusted": true,
    "execution": {
     "iopub.status.busy": "2025-04-10T05:49:16.658449Z",
     "iopub.status.idle": "2025-04-10T05:49:16.658740Z",
     "shell.execute_reply": "2025-04-10T05:49:16.658619Z"
    }
   },
   "outputs": [],
   "execution_count": 19
  },
  {
   "id": "809635a6-a2c7-4d09-8d60-ababd1815003",
   "cell_type": "code",
   "source": [
    "# Check evaluation accuracy\n",
    "_, _ = evaluate_model(peft_model, eval_dataset, True, 8, data_collator)"
   ],
   "metadata": {
    "id": "809635a6-a2c7-4d09-8d60-ababd1815003",
    "trusted": true,
    "execution": {
     "iopub.status.busy": "2025-04-10T05:49:16.659303Z",
     "iopub.status.idle": "2025-04-10T05:49:16.659672Z",
     "shell.execute_reply": "2025-04-10T05:49:16.659522Z"
    },
    "colab": {
     "base_uri": "https://localhost:8080/",
     "height": 85,
     "referenced_widgets": [
      "8d4fa18398ae4ac3865d853a19a5c1b3",
      "98e0374c35924a2eb1111e56a3375478",
      "5296ad2b5c9942069c45ff2ff8c6d816",
      "1624a01dc6fd4b14a800405c27e1925b",
      "610514b3bda746e787e1544059ad239d",
      "3d87518b7dff4a0489cf6037fca9f38a",
      "6034d03546b94d0099098d388d46214f",
      "415e35611a754910876c51d296dab4ba",
      "fccc1fd3e989436e83cf915a4f116076",
      "171e425fff054376895488bd7b91b2b6",
      "b4e87cad6af54efe91294688e095c2c1"
     ]
    },
    "outputId": "d318ddfa-cf97-46ba-8ca0-8cd91f6239b5"
   },
   "outputs": [
    {
     "output_type": "display_data",
     "data": {
      "text/plain": [
       "Downloading builder script:   0%|          | 0.00/4.20k [00:00<?, ?B/s]"
      ],
      "application/vnd.jupyter.widget-view+json": {
       "version_major": 2,
       "version_minor": 0,
       "model_id": "8d4fa18398ae4ac3865d853a19a5c1b3"
      }
     },
     "metadata": {}
    },
    {
     "output_type": "stream",
     "name": "stderr",
     "text": [
      "100%|\u2588\u2588\u2588\u2588\u2588\u2588\u2588\u2588\u2588\u2588| 80/80 [00:02<00:00, 26.89it/s]"
     ]
    },
    {
     "output_type": "stream",
     "name": "stdout",
     "text": [
      "Evaluation Metric: {'accuracy': 0.9375}\n"
     ]
    },
    {
     "output_type": "stream",
     "name": "stderr",
     "text": [
      "\n"
     ]
    }
   ],
   "execution_count": 20
  },
  {
   "id": "75f39087-f2bb-49d3-9fe1-0d812fb30203",
   "cell_type": "markdown",
   "source": [
    "### Run Inference on unlabelled dataset"
   ],
   "metadata": {
    "id": "75f39087-f2bb-49d3-9fe1-0d812fb30203"
   }
  },
  {
   "id": "2af62541-2c33-4f16-bb1c-cc969c715cd7",
   "cell_type": "code",
   "source": [
    "#Load your unlabelled data\n",
    "unlabelled_dataset = pd.read_pickle(\"test_unlabelled.pkl\")\n",
    "test_dataset = unlabelled_dataset.map(preprocess, batched=True, remove_columns=[\"text\"])\n",
    "unlabelled_dataset"
   ],
   "metadata": {
    "id": "2af62541-2c33-4f16-bb1c-cc969c715cd7",
    "trusted": true,
    "execution": {
     "iopub.status.busy": "2025-04-10T05:49:16.660555Z",
     "iopub.status.idle": "2025-04-10T05:49:16.660890Z",
     "shell.execute_reply": "2025-04-10T05:49:16.660775Z"
    },
    "colab": {
     "base_uri": "https://localhost:8080/",
     "height": 120,
     "referenced_widgets": [
      "6f57cc424dec45dc903ec0595073baae",
      "b419a6b04e1d44259a64ee56f21eb4f9",
      "d6dced4ec0e74403839984e2f50c510f",
      "df730ffb850e4878a9de4611ee61ae48",
      "0efb80f89d7b4bbc97e868ed05666a80",
      "04b5c8edb5584d5e8ffd8b6cce238b93",
      "dbf7d5245a454698b11ccdcdb663b389",
      "0a5462a291ff46f3884ebb477b00f32c",
      "c549eb26142c48f0b331307ed9119e4d",
      "99bac82eaacd4b3ead2679d55a04d0e8",
      "54c0ec784c534c1095bc53a92de3d3a0"
     ]
    },
    "outputId": "4ebb4177-886c-4256-e957-6d9402b705a4"
   },
   "outputs": [
    {
     "output_type": "display_data",
     "data": {
      "text/plain": [
       "Map:   0%|          | 0/8000 [00:00<?, ? examples/s]"
      ],
      "application/vnd.jupyter.widget-view+json": {
       "version_major": 2,
       "version_minor": 0,
       "model_id": "6f57cc424dec45dc903ec0595073baae"
      }
     },
     "metadata": {}
    },
    {
     "output_type": "execute_result",
     "data": {
      "text/plain": [
       "Dataset({\n",
       "    features: ['text'],\n",
       "    num_rows: 8000\n",
       "})"
      ]
     },
     "metadata": {},
     "execution_count": 22
    }
   ],
   "execution_count": 22
  },
  {
   "id": "e60991d3-38b1-4657-8854-408ce66f6b84",
   "cell_type": "code",
   "source": [
    "# Run inference and save predictions\n",
    "preds = evaluate_model(peft_model, test_dataset, False, 8, data_collator)\n",
    "df_output = pd.DataFrame({\n",
    "    'ID': range(len(preds)),\n",
    "    'Label': preds.numpy()  # or preds.tolist()\n",
    "})\n",
    "df_output.to_csv(os.path.join(output_dir,\"inference_output.csv\"), index=False)\n",
    "print(\"Inference complete. Predictions saved to inference_output.csv\")"
   ],
   "metadata": {
    "id": "e60991d3-38b1-4657-8854-408ce66f6b84",
    "trusted": true,
    "execution": {
     "iopub.status.busy": "2025-04-10T05:49:16.661506Z",
     "iopub.status.idle": "2025-04-10T05:49:16.661833Z",
     "shell.execute_reply": "2025-04-10T05:49:16.661703Z"
    },
    "colab": {
     "base_uri": "https://localhost:8080/"
    },
    "outputId": "93f8d08e-18b7-4f2b-8c40-819bf82a3832"
   },
   "outputs": [
    {
     "output_type": "stream",
     "name": "stderr",
     "text": [
      "100%|\u2588\u2588\u2588\u2588\u2588\u2588\u2588\u2588\u2588\u2588| 1000/1000 [00:28<00:00, 34.71it/s]\n"
     ]
    },
    {
     "output_type": "stream",
     "name": "stdout",
     "text": [
      "Inference complete. Predictions saved to inference_output.csv\n"
     ]
    }
   ],
   "execution_count": 23
  }
 ]
}