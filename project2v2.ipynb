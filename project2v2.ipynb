{
  "metadata": {
    "kernelspec": {
      "display_name": "Python 3",
      "name": "python3"
    },
    "language_info": {
      "codemirror_mode": {
        "name": "ipython",
        "version": 3
      },
      "file_extension": ".py",
      "mimetype": "text/x-python",
      "name": "python",
      "nbconvert_exporter": "python",
      "pygments_lexer": "ipython3",
      "version": "3.11.11"
    },
    "accelerator": "GPU",
    "colab": {
      "gpuType": "A100",
      "machine_shape": "hm",
      "provenance": [],
      "name": "notebookc5954db87a",
      "include_colab_link": true
    },
    "kaggle": {
      "accelerator": "gpu",
      "dataSources": [],
      "isInternetEnabled": true,
      "language": "python",
      "sourceType": "notebook",
      "isGpuEnabled": true
    }
  },
  "nbformat_minor": 5,
  "nbformat": 4,
  "cells": [
    {
      "cell_type": "markdown",
      "metadata": {
        "id": "view-in-github",
        "colab_type": "text"
      },
      "source": [
        "<a href=\"https://colab.research.google.com/github/abbyzhang030/DL-project2/blob/ZeyuPeng1/notebookc5954db87a.ipynb\" target=\"_parent\"><img src=\"https://colab.research.google.com/assets/colab-badge.svg\" alt=\"Open In Colab\"/></a>"
      ]
    },
    {
      "id": "a02285e6",
      "cell_type": "markdown",
      "source": [
        "# Starter Notebook"
      ],
      "metadata": {
        "id": "a02285e6"
      }
    },
    {
      "id": "a39dba70",
      "cell_type": "markdown",
      "source": [],
      "metadata": {
        "id": "a39dba70"
      }
    },
    {
      "id": "bdcc5329",
      "cell_type": "markdown",
      "source": [
        "Install and import required libraries"
      ],
      "metadata": {
        "id": "bdcc5329"
      }
    },
    {
      "id": "348ceed6-b684-46c3-8a32-9bb640c9a9d7",
      "cell_type": "code",
      "source": [
        "!pip install transformers datasets evaluate accelerate peft trl bitsandbytes\n",
        "!pip install nvidia-ml-py3"
      ],
      "metadata": {
        "id": "348ceed6-b684-46c3-8a32-9bb640c9a9d7",
        "trusted": true
      },
      "outputs": [],
      "execution_count": null
    },
    {
      "id": "cca64f38-d8d2-4313-8295-fbbd43c2a263",
      "cell_type": "code",
      "source": [
        "import os\n",
        "import pandas as pd\n",
        "import torch\n",
        "from transformers import RobertaModel, RobertaTokenizer, TrainingArguments, Trainer, DataCollatorWithPadding, RobertaForSequenceClassification\n",
        "from peft import LoraConfig, get_peft_model, PeftModel\n",
        "from datasets import load_dataset, Dataset, ClassLabel\n",
        "import pickle"
      ],
      "metadata": {
        "id": "cca64f38-d8d2-4313-8295-fbbd43c2a263",
        "trusted": true
      },
      "outputs": [],
      "execution_count": null
    },
    {
      "id": "59d6e377",
      "cell_type": "markdown",
      "source": [
        "## Load Tokenizer and Preprocess Data"
      ],
      "metadata": {
        "id": "59d6e377"
      }
    },
    {
      "id": "21f42747-f551-40a5-a95f-7affb1eba4a3",
      "cell_type": "code",
      "source": [
        "base_model = 'roberta-base'\n",
        "\n",
        "dataset = load_dataset('ag_news', split='train')\n",
        "tokenizer = RobertaTokenizer.from_pretrained(base_model)\n",
        "\n",
        "def preprocess(examples):\n",
        "    tokenized = tokenizer(examples['text'], truncation=True, padding=True)\n",
        "    return tokenized\n",
        "\n",
        "tokenized_dataset = dataset.map(preprocess, batched=True,  remove_columns=[\"text\"])\n",
        "tokenized_dataset = tokenized_dataset.rename_column(\"label\", \"labels\")"
      ],
      "metadata": {
        "id": "21f42747-f551-40a5-a95f-7affb1eba4a3",
        "trusted": true
      },
      "outputs": [],
      "execution_count": null
    },
    {
      "id": "9e07f641-bec0-43a6-8c26-510d7642916a",
      "cell_type": "code",
      "source": [
        "# Extract the number of classess and their names\n",
        "num_labels = dataset.features['label'].num_classes\n",
        "class_names = dataset.features[\"label\"].names\n",
        "print(f\"number of labels: {num_labels}\")\n",
        "print(f\"the labels: {class_names}\")\n",
        "\n",
        "# Create an id2label mapping\n",
        "# We will need this for our classifier.\n",
        "id2label = {i: label for i, label in enumerate(class_names)}\n",
        "\n",
        "data_collator = DataCollatorWithPadding(tokenizer=tokenizer, return_tensors=\"pt\")\n"
      ],
      "metadata": {
        "id": "9e07f641-bec0-43a6-8c26-510d7642916a",
        "trusted": true
      },
      "outputs": [],
      "execution_count": null
    },
    {
      "id": "c9e24afd",
      "cell_type": "markdown",
      "source": [
        "## Load Pre-trained Model\n",
        "Set up config for pretrained model and download it from hugging face"
      ],
      "metadata": {
        "id": "c9e24afd"
      }
    },
    {
      "id": "262a8416-a59c-4ea1-95d9-0b1f81d6094c",
      "cell_type": "code",
      "source": [
        "model = RobertaForSequenceClassification.from_pretrained(\n",
        "    base_model,\n",
        "    id2label=id2label)\n",
        "model"
      ],
      "metadata": {
        "id": "262a8416-a59c-4ea1-95d9-0b1f81d6094c",
        "trusted": true
      },
      "outputs": [],
      "execution_count": null
    },
    {
      "id": "f265839d-a088-4693-8474-862641de11ed",
      "cell_type": "markdown",
      "source": [
        "## Anything from here on can be modified"
      ],
      "metadata": {
        "id": "f265839d-a088-4693-8474-862641de11ed"
      }
    },
    {
      "id": "e7413430-be57-482b-856e-36bd4ba799df",
      "cell_type": "code",
      "source": [
        "# Split the original training set\n",
        "split_datasets = tokenized_dataset.train_test_split(test_size=640, seed=42)\n",
        "train_dataset = split_datasets['train']\n",
        "eval_dataset = split_datasets['test']"
      ],
      "metadata": {
        "id": "e7413430-be57-482b-856e-36bd4ba799df",
        "trusted": true
      },
      "outputs": [],
      "execution_count": null
    },
    {
      "id": "652452e3",
      "cell_type": "markdown",
      "source": [
        "## Setup LoRA Config\n",
        "Setup PEFT config and get peft model for finetuning"
      ],
      "metadata": {
        "id": "652452e3"
      }
    },
    {
      "id": "bd0ca0ea-86b8-47f7-8cbf-83da25685876",
      "cell_type": "code",
      "source": [
        "# PEFT Config\n",
        "peft_config = LoraConfig(\n",
        "    r=10,\n",
        "    lora_alpha=20,\n",
        "    lora_dropout=0.05,\n",
        "    bias = 'none',\n",
        "    target_modules = ['query', 'value'],\n",
        "    task_type=\"SEQ_CLS\",\n",
        ")"
      ],
      "metadata": {
        "id": "bd0ca0ea-86b8-47f7-8cbf-83da25685876",
        "trusted": true
      },
      "outputs": [],
      "execution_count": null
    },
    {
      "id": "6ec2739d-76b6-4fde-91c2-0fc49e1884b0",
      "cell_type": "code",
      "source": [
        "peft_model = get_peft_model(model, peft_config)\n",
        "peft_model"
      ],
      "metadata": {
        "id": "6ec2739d-76b6-4fde-91c2-0fc49e1884b0",
        "trusted": true
      },
      "outputs": [],
      "execution_count": null
    },
    {
      "id": "a769f54e-05ad-4e3c-aae8-d00d1d9dfb2f",
      "cell_type": "code",
      "source": [
        "# print(\"Trainable parameters:\")\n",
        "# for name, param in peft_model.named_parameters():\n",
        "#     if param.requires_grad:\n",
        "#         print(name)"
      ],
      "metadata": {
        "id": "a769f54e-05ad-4e3c-aae8-d00d1d9dfb2f",
        "trusted": true
      },
      "outputs": [],
      "execution_count": null
    },
    {
      "id": "da45f85c-b016-4c49-8808-6eafa7cb5d1b",
      "cell_type": "code",
      "source": [
        "print('PEFT Model')\n",
        "peft_model.print_trainable_parameters()"
      ],
      "metadata": {
        "id": "da45f85c-b016-4c49-8808-6eafa7cb5d1b",
        "trusted": true
      },
      "outputs": [],
      "execution_count": null
    },
    {
      "id": "12284b58",
      "cell_type": "markdown",
      "source": [
        "## Training Setup"
      ],
      "metadata": {
        "id": "12284b58"
      }
    },
    {
      "id": "0ee64c43-fe38-479a-b3c5-7d939a3db4c1",
      "cell_type": "code",
      "source": [
        "# To track evaluation accuracy during training\n",
        "from sklearn.metrics import accuracy_score, precision_score, recall_score, f1_score\n",
        "\n",
        "def compute_metrics(pred):\n",
        "    labels = pred.label_ids\n",
        "    preds = pred.predictions.argmax(-1)\n",
        "    # Calculate accuracy\n",
        "    accuracy = accuracy_score(labels, preds)\n",
        "    return {\n",
        "        'accuracy': accuracy\n",
        "    }"
      ],
      "metadata": {
        "id": "0ee64c43-fe38-479a-b3c5-7d939a3db4c1",
        "trusted": true
      },
      "outputs": [],
      "execution_count": null
    },
    {
      "id": "768b4917-65de-4e55-ae7f-698e287535d4",
      "cell_type": "code",
      "source": [
        "# Setup Training args\n",
        "output_dir = \"results\"\n",
        "training_args = TrainingArguments(\n",
        "    output_dir=output_dir,\n",
        "    report_to='none',\n",
        "    eval_strategy='steps',\n",
        "    logging_steps=100,\n",
        "    optim=\"adamw_torch\",\n",
        "    learning_rate=1e-5,\n",
        "    weight_decay=0.01,\n",
        "    lr_scheduler_type=\"linear\",\n",
        "    warmup_ratio=0.2,\n",
        "    num_train_epochs=3,\n",
        "    max_steps=-1,\n",
        "    use_cpu=False,\n",
        "    dataloader_num_workers=8,\n",
        "    per_device_train_batch_size=16,\n",
        "    per_device_eval_batch_size=64,\n",
        "    fp16=True,\n",
        "    gradient_checkpointing=False,\n",
        "    gradient_checkpointing_kwargs={'use_reentrant':True}\n",
        ")\n",
        "\n",
        "def get_trainer(model):\n",
        "      return  Trainer(\n",
        "          model=model,\n",
        "          args=training_args,\n",
        "          compute_metrics=compute_metrics,\n",
        "          train_dataset=train_dataset,\n",
        "          eval_dataset=eval_dataset,\n",
        "          data_collator=data_collator,\n",
        "      )"
      ],
      "metadata": {
        "id": "768b4917-65de-4e55-ae7f-698e287535d4",
        "trusted": true
      },
      "outputs": [],
      "execution_count": null
    },
    {
      "id": "9b848278",
      "cell_type": "markdown",
      "source": [
        "### Start Training"
      ],
      "metadata": {
        "id": "9b848278"
      }
    },
    {
      "id": "98d9d57d-b57f-4acc-80fb-fc5443e75515",
      "cell_type": "code",
      "source": [
        "peft_lora_finetuning_trainer = get_trainer(peft_model)\n",
        "\n",
        "result = peft_lora_finetuning_trainer.train()"
      ],
      "metadata": {
        "id": "98d9d57d-b57f-4acc-80fb-fc5443e75515",
        "trusted": true
      },
      "outputs": [],
      "execution_count": null
    },
    {
      "id": "5183be7e-514f-4e64-a6f4-314a827e6be5",
      "cell_type": "markdown",
      "source": [
        "## Evaluate Finetuned Model\n"
      ],
      "metadata": {
        "id": "5183be7e-514f-4e64-a6f4-314a827e6be5"
      }
    },
    {
      "id": "038198cf-0953-47e7-bd47-b073d05f8378",
      "cell_type": "markdown",
      "source": [
        "### Performing Inference on Custom Input\n",
        "Uncomment following functions for running inference on custom inputs"
      ],
      "metadata": {
        "id": "038198cf-0953-47e7-bd47-b073d05f8378"
      }
    },
    {
      "id": "f88ad420-3f46-4eff-9d71-0ce388163062",
      "cell_type": "code",
      "source": [
        "# def classify(model, tokenizer, text):\n",
        "#     device = torch.device(\"cuda\" if torch.cuda.is_available() else \"cpu\")\n",
        "#     inputs = tokenizer(text, truncation=True, padding=True, return_tensors=\"pt\").to(device)\n",
        "#     output = model(**inputs)\n",
        "\n",
        "#     prediction = output.logits.argmax(dim=-1).item()\n",
        "\n",
        "#     print(f'\\n Class: {prediction}, Label: {id2label[prediction]}, Text: {text}')\n",
        "#     return id2label[prediction]"
      ],
      "metadata": {
        "id": "f88ad420-3f46-4eff-9d71-0ce388163062",
        "trusted": true
      },
      "outputs": [],
      "execution_count": null
    },
    {
      "id": "fc52bb94-5e13-4943-9225-a6d7fd053579",
      "cell_type": "code",
      "source": [
        "# classify( peft_model, tokenizer, \"Kederis proclaims innocence Olympic champion Kostas Kederis today left hospital ahead of his date with IOC inquisitors claiming his ...\")\n",
        "# classify( peft_model, tokenizer, \"Wall St. Bears Claw Back Into the Black (Reuters) Reuters - Short-sellers, Wall Street's dwindling\\band of ultra-cynics, are seeing green again.\")"
      ],
      "metadata": {
        "id": "fc52bb94-5e13-4943-9225-a6d7fd053579",
        "trusted": true
      },
      "outputs": [],
      "execution_count": null
    },
    {
      "id": "68a3e276-bf8c-4403-8a48-5ef19f2beccf",
      "cell_type": "markdown",
      "source": [
        "### Run Inference on eval_dataset"
      ],
      "metadata": {
        "id": "68a3e276-bf8c-4403-8a48-5ef19f2beccf"
      }
    },
    {
      "id": "ebbc20a2-a1c0-4cb7-b842-f52e4de61ed5",
      "cell_type": "code",
      "source": [
        "from torch.utils.data import DataLoader\n",
        "import evaluate\n",
        "from tqdm import tqdm\n",
        "\n",
        "def evaluate_model(inference_model, dataset, labelled=True, batch_size=8, data_collator=None):\n",
        "    \"\"\"\n",
        "    Evaluate a PEFT model on a dataset.\n",
        "\n",
        "    Args:\n",
        "        inference_model: The model to evaluate.\n",
        "        dataset: The dataset (Hugging Face Dataset) to run inference on.\n",
        "        labelled (bool): If True, the dataset includes labels and metrics will be computed.\n",
        "                         If False, only predictions will be returned.\n",
        "        batch_size (int): Batch size for inference.\n",
        "        data_collator: Function to collate batches. If None, the default collate_fn is used.\n",
        "\n",
        "    Returns:\n",
        "        If labelled is True, returns a tuple (metrics, predictions)\n",
        "        If labelled is False, returns the predictions.\n",
        "    \"\"\"\n",
        "    # Create the DataLoader\n",
        "    eval_dataloader = DataLoader(dataset, batch_size=batch_size, collate_fn=data_collator)\n",
        "    device = torch.device(\"cuda\" if torch.cuda.is_available() else \"cpu\")\n",
        "\n",
        "    inference_model.to(device)\n",
        "    inference_model.eval()\n",
        "\n",
        "    all_predictions = []\n",
        "    if labelled:\n",
        "        metric = evaluate.load('accuracy')\n",
        "\n",
        "    # Loop over the DataLoader\n",
        "    for batch in tqdm(eval_dataloader):\n",
        "        # Move each tensor in the batch to the device\n",
        "        batch = {k: v.to(device) for k, v in batch.items()}\n",
        "        with torch.no_grad():\n",
        "            outputs = inference_model(**batch)\n",
        "        predictions = outputs.logits.argmax(dim=-1)\n",
        "        all_predictions.append(predictions.cpu())\n",
        "\n",
        "        if labelled:\n",
        "            # Expecting that labels are provided under the \"labels\" key.\n",
        "            references = batch[\"labels\"]\n",
        "            metric.add_batch(\n",
        "                predictions=predictions.cpu().numpy(),\n",
        "                references=references.cpu().numpy()\n",
        "            )\n",
        "\n",
        "    # Concatenate predictions from all batches\n",
        "    all_predictions = torch.cat(all_predictions, dim=0)\n",
        "\n",
        "    if labelled:\n",
        "        eval_metric = metric.compute()\n",
        "        print(\"Evaluation Metric:\", eval_metric)\n",
        "        return eval_metric, all_predictions\n",
        "    else:\n",
        "        return all_predictions"
      ],
      "metadata": {
        "id": "ebbc20a2-a1c0-4cb7-b842-f52e4de61ed5",
        "trusted": true
      },
      "outputs": [],
      "execution_count": null
    },
    {
      "id": "809635a6-a2c7-4d09-8d60-ababd1815003",
      "cell_type": "code",
      "source": [
        "# Check evaluation accuracy\n",
        "_, _ = evaluate_model(peft_model, eval_dataset, True, 8, data_collator)"
      ],
      "metadata": {
        "id": "809635a6-a2c7-4d09-8d60-ababd1815003",
        "trusted": true
      },
      "outputs": [],
      "execution_count": null
    },
    {
      "id": "kMJgvV1ZnVhd",
      "cell_type": "code",
      "source": [],
      "metadata": {
        "id": "kMJgvV1ZnVhd",
        "trusted": true
      },
      "outputs": [],
      "execution_count": null
    },
    {
      "id": "75f39087-f2bb-49d3-9fe1-0d812fb30203",
      "cell_type": "markdown",
      "source": [
        "### Run Inference on unlabelled dataset"
      ],
      "metadata": {
        "id": "75f39087-f2bb-49d3-9fe1-0d812fb30203"
      }
    },
    {
      "id": "2af62541-2c33-4f16-bb1c-cc969c715cd7",
      "cell_type": "code",
      "source": [
        "from datasets import Dataset\n",
        "from torch.utils.data import DataLoader\n",
        "\n",
        "# Load dataset object\n",
        "with open(\"/kaggle/input/deep-learning-spring-2025-project-2/test_unlabelled.pkl\", \"rb\") as f:\n",
        "    test_dataset = pickle.load(f)\n",
        "\n",
        "# Convert to HuggingFace Dataset (already is, but this helps formatting)\n",
        "test_dataset = Dataset.from_dict({\"text\": test_dataset[\"text\"]})\n",
        "\n",
        "# Tokenize function\n",
        "def preprocess_function(examples):\n",
        "    return tokenizer(examples[\"text\"], truncation=True, padding=\"max_length\", max_length=128)\n",
        "\n",
        "# Apply tokenizer\n",
        "tokenized_test_dataset = test_dataset.map(preprocess_function, batched=True)\n",
        "tokenized_test_dataset.set_format(type=\"torch\", columns=[\"input_ids\", \"attention_mask\"])\n",
        "\n",
        "# Create PyTorch DataLoader for batching\n",
        "test_dataloader = DataLoader(tokenized_test_dataset, batch_size=64)\n",
        "\n",
        "# Prediction loop\n",
        "model.eval()\n",
        "all_predictions = []\n",
        "\n",
        "with torch.no_grad():\n",
        "    for batch in test_dataloader:\n",
        "        batch = {k: v.to(device) for k, v in batch.items()}\n",
        "        outputs = model(**batch)\n",
        "        preds = torch.argmax(outputs.logits, dim=-1)\n",
        "        all_predictions.extend(preds.cpu().numpy())"
      ],
      "metadata": {
        "id": "2af62541-2c33-4f16-bb1c-cc969c715cd7",
        "trusted": true
      },
      "outputs": [],
      "execution_count": null
    },
    {
      "id": "e60991d3-38b1-4657-8854-408ce66f6b84",
      "cell_type": "code",
      "source": [
        "# Run inference and save predictions\n",
        "df = pd.DataFrame({\n",
        "    \"ID\": list(range(len(all_predictions))),   # ID ✅\n",
        "    \"label\": all_predictions\n",
        "})\n",
        "df.to_csv(\"submission.csv\", index=False)\n",
        "print(\"✅ Batched predictions complete. Saved to submission.csv.\")"
      ],
      "metadata": {
        "id": "e60991d3-38b1-4657-8854-408ce66f6b84",
        "trusted": true
      },
      "outputs": [],
      "execution_count": null
    }
  ]
}
