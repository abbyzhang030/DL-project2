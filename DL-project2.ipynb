{
 "metadata": {
  "kernelspec": {
   "name": "python3",
   "display_name": "Python 3"
  },
  "language_info": {
   "name": "python",
   "version": "3.10.12",
   "mimetype": "text/x-python",
   "codemirror_mode": {
    "name": "ipython",
    "version": 3
   },
   "pygments_lexer": "ipython3",
   "nbconvert_exporter": "python",
   "file_extension": ".py"
  },
  "accelerator": "GPU",
  "colab": {
   "gpuType": "A100",
   "provenance": []
  },
  "kaggle": {
   "accelerator": "gpu",
   "dataSources": [
    {
     "sourceId": 98084,
     "databundleVersionId": 11711500,
     "sourceType": "competition"
    }
   ],
   "dockerImageVersionId": 30918,
   "isInternetEnabled": true,
   "language": "python",
   "sourceType": "notebook",
   "isGpuEnabled": true
  }
 },
 "nbformat_minor": 5,
 "nbformat": 4,
 "cells": [
  {
   "id": "a02285e6",
   "cell_type": "markdown",
   "source": [
    "# Starter Notebook"
   ],
   "metadata": {
    "id": "a02285e6"
   }
  },
  {
   "id": "bdcc5329",
   "cell_type": "markdown",
   "source": [
    "Install and import required libraries"
   ],
   "metadata": {
    "id": "bdcc5329"
   }
  },
  {
   "id": "348ceed6-b684-46c3-8a32-9bb640c9a9d7",
   "cell_type": "code",
   "source": [
    "!pip install transformers datasets evaluate accelerate peft trl bitsandbytes\n",
    "!pip install nvidia-ml-py3"
   ],
   "metadata": {
    "id": "348ceed6-b684-46c3-8a32-9bb640c9a9d7",
    "trusted": true,
    "execution": {
     "iopub.status.busy": "2025-04-10T05:46:42.131908Z",
     "iopub.execute_input": "2025-04-10T05:46:42.132204Z",
     "iopub.status.idle": "2025-04-10T05:46:49.169230Z",
     "shell.execute_reply.started": "2025-04-10T05:46:42.132180Z",
     "shell.execute_reply": "2025-04-10T05:46:49.168300Z"
    },
    "colab": {
     "base_uri": "https://localhost:8080/"
    },
    "outputId": "fc88c9c6-3255-4cf6-a436-537733ee2a3b"
   },
   "outputs": [
    {
     "output_type": "stream",
     "name": "stdout",
     "text": [
      "Requirement already satisfied: transformers in /usr/local/lib/python3.11/dist-packages (4.50.3)\n",
      "Collecting datasets\n",
      "  Downloading datasets-3.5.0-py3-none-any.whl.metadata (19 kB)\n",
      "Collecting evaluate\n",
      "  Downloading evaluate-0.4.3-py3-none-any.whl.metadata (9.2 kB)\n",
      "Requirement already satisfied: accelerate in /usr/local/lib/python3.11/dist-packages (1.5.2)\n",
      "Requirement already satisfied: peft in /usr/local/lib/python3.11/dist-packages (0.14.0)\n",
      "Collecting trl\n",
      "  Downloading trl-0.16.1-py3-none-any.whl.metadata (12 kB)\n",
      "Collecting bitsandbytes\n",
      "  Downloading bitsandbytes-0.45.5-py3-none-manylinux_2_24_x86_64.whl.metadata (5.0 kB)\n",
      "Requirement already satisfied: filelock in /usr/local/lib/python3.11/dist-packages (from transformers) (3.18.0)\n",
      "Requirement already satisfied: huggingface-hub<1.0,>=0.26.0 in /usr/local/lib/python3.11/dist-packages (from transformers) (0.30.1)\n",
      "Requirement already satisfied: numpy>=1.17 in /usr/local/lib/python3.11/dist-packages (from transformers) (2.0.2)\n",
      "Requirement already satisfied: packaging>=20.0 in /usr/local/lib/python3.11/dist-packages (from transformers) (24.2)\n",
      "Requirement already satisfied: pyyaml>=5.1 in /usr/local/lib/python3.11/dist-packages (from transformers) (6.0.2)\n",
      "Requirement already satisfied: regex!=2019.12.17 in /usr/local/lib/python3.11/dist-packages (from transformers) (2024.11.6)\n",
      "Requirement already satisfied: requests in /usr/local/lib/python3.11/dist-packages (from transformers) (2.32.3)\n",
      "Requirement already satisfied: tokenizers<0.22,>=0.21 in /usr/local/lib/python3.11/dist-packages (from transformers) (0.21.1)\n",
      "Requirement already satisfied: safetensors>=0.4.3 in /usr/local/lib/python3.11/dist-packages (from transformers) (0.5.3)\n",
      "Requirement already satisfied: tqdm>=4.27 in /usr/local/lib/python3.11/dist-packages (from transformers) (4.67.1)\n",
      "Requirement already satisfied: pyarrow>=15.0.0 in /usr/local/lib/python3.11/dist-packages (from datasets) (18.1.0)\n",
      "Collecting dill<0.3.9,>=0.3.0 (from datasets)\n",
      "  Downloading dill-0.3.8-py3-none-any.whl.metadata (10 kB)\n",
      "Requirement already satisfied: pandas in /usr/local/lib/python3.11/dist-packages (from datasets) (2.2.2)\n",
      "Collecting xxhash (from datasets)\n",
      "  Downloading xxhash-3.5.0-cp311-cp311-manylinux_2_17_x86_64.manylinux2014_x86_64.whl.metadata (12 kB)\n",
      "Collecting multiprocess<0.70.17 (from datasets)\n",
      "  Downloading multiprocess-0.70.16-py311-none-any.whl.metadata (7.2 kB)\n",
      "Collecting fsspec<=2024.12.0,>=2023.1.0 (from fsspec[http]<=2024.12.0,>=2023.1.0->datasets)\n",
      "  Downloading fsspec-2024.12.0-py3-none-any.whl.metadata (11 kB)\n",
      "Requirement already satisfied: aiohttp in /usr/local/lib/python3.11/dist-packages (from datasets) (3.11.15)\n",
      "Requirement already satisfied: psutil in /usr/local/lib/python3.11/dist-packages (from accelerate) (5.9.5)\n",
      "Requirement already satisfied: torch>=2.0.0 in /usr/local/lib/python3.11/dist-packages (from accelerate) (2.6.0+cu124)\n",
      "Requirement already satisfied: rich in /usr/local/lib/python3.11/dist-packages (from trl) (13.9.4)\n",
      "Requirement already satisfied: aiohappyeyeballs>=2.3.0 in /usr/local/lib/python3.11/dist-packages (from aiohttp->datasets) (2.6.1)\n",
      "Requirement already satisfied: aiosignal>=1.1.2 in /usr/local/lib/python3.11/dist-packages (from aiohttp->datasets) (1.3.2)\n",
      "Requirement already satisfied: attrs>=17.3.0 in /usr/local/lib/python3.11/dist-packages (from aiohttp->datasets) (25.3.0)\n",
      "Requirement already satisfied: frozenlist>=1.1.1 in /usr/local/lib/python3.11/dist-packages (from aiohttp->datasets) (1.5.0)\n",
      "Requirement already satisfied: multidict<7.0,>=4.5 in /usr/local/lib/python3.11/dist-packages (from aiohttp->datasets) (6.3.2)\n",
      "Requirement already satisfied: propcache>=0.2.0 in /usr/local/lib/python3.11/dist-packages (from aiohttp->datasets) (0.3.1)\n",
      "Requirement already satisfied: yarl<2.0,>=1.17.0 in /usr/local/lib/python3.11/dist-packages (from aiohttp->datasets) (1.18.3)\n",
      "Requirement already satisfied: typing-extensions>=3.7.4.3 in /usr/local/lib/python3.11/dist-packages (from huggingface-hub<1.0,>=0.26.0->transformers) (4.13.1)\n",
      "Requirement already satisfied: charset-normalizer<4,>=2 in /usr/local/lib/python3.11/dist-packages (from requests->transformers) (3.4.1)\n",
      "Requirement already satisfied: idna<4,>=2.5 in /usr/local/lib/python3.11/dist-packages (from requests->transformers) (3.10)\n",
      "Requirement already satisfied: urllib3<3,>=1.21.1 in /usr/local/lib/python3.11/dist-packages (from requests->transformers) (2.3.0)\n",
      "Requirement already satisfied: certifi>=2017.4.17 in /usr/local/lib/python3.11/dist-packages (from requests->transformers) (2025.1.31)\n",
      "Requirement already satisfied: networkx in /usr/local/lib/python3.11/dist-packages (from torch>=2.0.0->accelerate) (3.4.2)\n",
      "Requirement already satisfied: jinja2 in /usr/local/lib/python3.11/dist-packages (from torch>=2.0.0->accelerate) (3.1.6)\n",
      "Collecting nvidia-cuda-nvrtc-cu12==12.4.127 (from torch>=2.0.0->accelerate)\n",
      "  Downloading nvidia_cuda_nvrtc_cu12-12.4.127-py3-none-manylinux2014_x86_64.whl.metadata (1.5 kB)\n",
      "Collecting nvidia-cuda-runtime-cu12==12.4.127 (from torch>=2.0.0->accelerate)\n",
      "  Downloading nvidia_cuda_runtime_cu12-12.4.127-py3-none-manylinux2014_x86_64.whl.metadata (1.5 kB)\n",
      "Collecting nvidia-cuda-cupti-cu12==12.4.127 (from torch>=2.0.0->accelerate)\n",
      "  Downloading nvidia_cuda_cupti_cu12-12.4.127-py3-none-manylinux2014_x86_64.whl.metadata (1.6 kB)\n",
      "Collecting nvidia-cudnn-cu12==9.1.0.70 (from torch>=2.0.0->accelerate)\n",
      "  Downloading nvidia_cudnn_cu12-9.1.0.70-py3-none-manylinux2014_x86_64.whl.metadata (1.6 kB)\n",
      "Collecting nvidia-cublas-cu12==12.4.5.8 (from torch>=2.0.0->accelerate)\n",
      "  Downloading nvidia_cublas_cu12-12.4.5.8-py3-none-manylinux2014_x86_64.whl.metadata (1.5 kB)\n",
      "Collecting nvidia-cufft-cu12==11.2.1.3 (from torch>=2.0.0->accelerate)\n",
      "  Downloading nvidia_cufft_cu12-11.2.1.3-py3-none-manylinux2014_x86_64.whl.metadata (1.5 kB)\n",
      "Collecting nvidia-curand-cu12==10.3.5.147 (from torch>=2.0.0->accelerate)\n",
      "  Downloading nvidia_curand_cu12-10.3.5.147-py3-none-manylinux2014_x86_64.whl.metadata (1.5 kB)\n",
      "Collecting nvidia-cusolver-cu12==11.6.1.9 (from torch>=2.0.0->accelerate)\n",
      "  Downloading nvidia_cusolver_cu12-11.6.1.9-py3-none-manylinux2014_x86_64.whl.metadata (1.6 kB)\n",
      "Collecting nvidia-cusparse-cu12==12.3.1.170 (from torch>=2.0.0->accelerate)\n",
      "  Downloading nvidia_cusparse_cu12-12.3.1.170-py3-none-manylinux2014_x86_64.whl.metadata (1.6 kB)\n",
      "Requirement already satisfied: nvidia-cusparselt-cu12==0.6.2 in /usr/local/lib/python3.11/dist-packages (from torch>=2.0.0->accelerate) (0.6.2)\n",
      "Requirement already satisfied: nvidia-nccl-cu12==2.21.5 in /usr/local/lib/python3.11/dist-packages (from torch>=2.0.0->accelerate) (2.21.5)\n",
      "Requirement already satisfied: nvidia-nvtx-cu12==12.4.127 in /usr/local/lib/python3.11/dist-packages (from torch>=2.0.0->accelerate) (12.4.127)\n",
      "Collecting nvidia-nvjitlink-cu12==12.4.127 (from torch>=2.0.0->accelerate)\n",
      "  Downloading nvidia_nvjitlink_cu12-12.4.127-py3-none-manylinux2014_x86_64.whl.metadata (1.5 kB)\n",
      "Requirement already satisfied: triton==3.2.0 in /usr/local/lib/python3.11/dist-packages (from torch>=2.0.0->accelerate) (3.2.0)\n",
      "Requirement already satisfied: sympy==1.13.1 in /usr/local/lib/python3.11/dist-packages (from torch>=2.0.0->accelerate) (1.13.1)\n",
      "Requirement already satisfied: mpmath<1.4,>=1.1.0 in /usr/local/lib/python3.11/dist-packages (from sympy==1.13.1->torch>=2.0.0->accelerate) (1.3.0)\n",
      "Requirement already satisfied: python-dateutil>=2.8.2 in /usr/local/lib/python3.11/dist-packages (from pandas->datasets) (2.8.2)\n",
      "Requirement already satisfied: pytz>=2020.1 in /usr/local/lib/python3.11/dist-packages (from pandas->datasets) (2025.2)\n",
      "Requirement already satisfied: tzdata>=2022.7 in /usr/local/lib/python3.11/dist-packages (from pandas->datasets) (2025.2)\n",
      "Requirement already satisfied: markdown-it-py>=2.2.0 in /usr/local/lib/python3.11/dist-packages (from rich->trl) (3.0.0)\n",
      "Requirement already satisfied: pygments<3.0.0,>=2.13.0 in /usr/local/lib/python3.11/dist-packages (from rich->trl) (2.18.0)\n",
      "Requirement already satisfied: mdurl~=0.1 in /usr/local/lib/python3.11/dist-packages (from markdown-it-py>=2.2.0->rich->trl) (0.1.2)\n",
      "Requirement already satisfied: six>=1.5 in /usr/local/lib/python3.11/dist-packages (from python-dateutil>=2.8.2->pandas->datasets) (1.17.0)\n",
      "Requirement already satisfied: MarkupSafe>=2.0 in /usr/local/lib/python3.11/dist-packages (from jinja2->torch>=2.0.0->accelerate) (3.0.2)\n",
      "Downloading datasets-3.5.0-py3-none-any.whl (491 kB)\n",
      "\u001b[2K   \u001b[90m\u2501\u2501\u2501\u2501\u2501\u2501\u2501\u2501\u2501\u2501\u2501\u2501\u2501\u2501\u2501\u2501\u2501\u2501\u2501\u2501\u2501\u2501\u2501\u2501\u2501\u2501\u2501\u2501\u2501\u2501\u2501\u2501\u2501\u2501\u2501\u2501\u2501\u2501\u2501\u2501\u001b[0m \u001b[32m491.2/491.2 kB\u001b[0m \u001b[31m10.1 MB/s\u001b[0m eta \u001b[36m0:00:00\u001b[0m\n",
      "\u001b[?25hDownloading evaluate-0.4.3-py3-none-any.whl (84 kB)\n",
      "\u001b[2K   \u001b[90m\u2501\u2501\u2501\u2501\u2501\u2501\u2501\u2501\u2501\u2501\u2501\u2501\u2501\u2501\u2501\u2501\u2501\u2501\u2501\u2501\u2501\u2501\u2501\u2501\u2501\u2501\u2501\u2501\u2501\u2501\u2501\u2501\u2501\u2501\u2501\u2501\u2501\u2501\u2501\u2501\u001b[0m \u001b[32m84.0/84.0 kB\u001b[0m \u001b[31m7.9 MB/s\u001b[0m eta \u001b[36m0:00:00\u001b[0m\n",
      "\u001b[?25hDownloading trl-0.16.1-py3-none-any.whl (336 kB)\n",
      "\u001b[2K   \u001b[90m\u2501\u2501\u2501\u2501\u2501\u2501\u2501\u2501\u2501\u2501\u2501\u2501\u2501\u2501\u2501\u2501\u2501\u2501\u2501\u2501\u2501\u2501\u2501\u2501\u2501\u2501\u2501\u2501\u2501\u2501\u2501\u2501\u2501\u2501\u2501\u2501\u2501\u2501\u2501\u2501\u001b[0m \u001b[32m336.4/336.4 kB\u001b[0m \u001b[31m28.0 MB/s\u001b[0m eta \u001b[36m0:00:00\u001b[0m\n",
      "\u001b[?25hDownloading bitsandbytes-0.45.5-py3-none-manylinux_2_24_x86_64.whl (76.1 MB)\n",
      "\u001b[2K   \u001b[90m\u2501\u2501\u2501\u2501\u2501\u2501\u2501\u2501\u2501\u2501\u2501\u2501\u2501\u2501\u2501\u2501\u2501\u2501\u2501\u2501\u2501\u2501\u2501\u2501\u2501\u2501\u2501\u2501\u2501\u2501\u2501\u2501\u2501\u2501\u2501\u2501\u2501\u2501\u2501\u2501\u001b[0m \u001b[32m76.1/76.1 MB\u001b[0m \u001b[31m26.3 MB/s\u001b[0m eta \u001b[36m0:00:00\u001b[0m\n",
      "\u001b[?25hDownloading dill-0.3.8-py3-none-any.whl (116 kB)\n",
      "\u001b[2K   \u001b[90m\u2501\u2501\u2501\u2501\u2501\u2501\u2501\u2501\u2501\u2501\u2501\u2501\u2501\u2501\u2501\u2501\u2501\u2501\u2501\u2501\u2501\u2501\u2501\u2501\u2501\u2501\u2501\u2501\u2501\u2501\u2501\u2501\u2501\u2501\u2501\u2501\u2501\u2501\u2501\u2501\u001b[0m \u001b[32m116.3/116.3 kB\u001b[0m \u001b[31m11.7 MB/s\u001b[0m eta \u001b[36m0:00:00\u001b[0m\n",
      "\u001b[?25hDownloading fsspec-2024.12.0-py3-none-any.whl (183 kB)\n",
      "\u001b[2K   \u001b[90m\u2501\u2501\u2501\u2501\u2501\u2501\u2501\u2501\u2501\u2501\u2501\u2501\u2501\u2501\u2501\u2501\u2501\u2501\u2501\u2501\u2501\u2501\u2501\u2501\u2501\u2501\u2501\u2501\u2501\u2501\u2501\u2501\u2501\u2501\u2501\u2501\u2501\u2501\u2501\u2501\u001b[0m \u001b[32m183.9/183.9 kB\u001b[0m \u001b[31m15.0 MB/s\u001b[0m eta \u001b[36m0:00:00\u001b[0m\n",
      "\u001b[?25hDownloading multiprocess-0.70.16-py311-none-any.whl (143 kB)\n",
      "\u001b[2K   \u001b[90m\u2501\u2501\u2501\u2501\u2501\u2501\u2501\u2501\u2501\u2501\u2501\u2501\u2501\u2501\u2501\u2501\u2501\u2501\u2501\u2501\u2501\u2501\u2501\u2501\u2501\u2501\u2501\u2501\u2501\u2501\u2501\u2501\u2501\u2501\u2501\u2501\u2501\u2501\u2501\u2501\u001b[0m \u001b[32m143.5/143.5 kB\u001b[0m \u001b[31m12.7 MB/s\u001b[0m eta \u001b[36m0:00:00\u001b[0m\n",
      "\u001b[?25hDownloading nvidia_cublas_cu12-12.4.5.8-py3-none-manylinux2014_x86_64.whl (363.4 MB)\n",
      "\u001b[2K   \u001b[90m\u2501\u2501\u2501\u2501\u2501\u2501\u2501\u2501\u2501\u2501\u2501\u2501\u2501\u2501\u2501\u2501\u2501\u2501\u2501\u2501\u2501\u2501\u2501\u2501\u2501\u2501\u2501\u2501\u2501\u2501\u2501\u2501\u2501\u2501\u2501\u2501\u2501\u2501\u2501\u2501\u001b[0m \u001b[32m363.4/363.4 MB\u001b[0m \u001b[31m2.2 MB/s\u001b[0m eta \u001b[36m0:00:00\u001b[0m\n",
      "\u001b[?25hDownloading nvidia_cuda_cupti_cu12-12.4.127-py3-none-manylinux2014_x86_64.whl (13.8 MB)\n",
      "\u001b[2K   \u001b[90m\u2501\u2501\u2501\u2501\u2501\u2501\u2501\u2501\u2501\u2501\u2501\u2501\u2501\u2501\u2501\u2501\u2501\u2501\u2501\u2501\u2501\u2501\u2501\u2501\u2501\u2501\u2501\u2501\u2501\u2501\u2501\u2501\u2501\u2501\u2501\u2501\u2501\u2501\u2501\u2501\u001b[0m \u001b[32m13.8/13.8 MB\u001b[0m \u001b[31m110.0 MB/s\u001b[0m eta \u001b[36m0:00:00\u001b[0m\n",
      "\u001b[?25hDownloading nvidia_cuda_nvrtc_cu12-12.4.127-py3-none-manylinux2014_x86_64.whl (24.6 MB)\n",
      "\u001b[2K   \u001b[90m\u2501\u2501\u2501\u2501\u2501\u2501\u2501\u2501\u2501\u2501\u2501\u2501\u2501\u2501\u2501\u2501\u2501\u2501\u2501\u2501\u2501\u2501\u2501\u2501\u2501\u2501\u2501\u2501\u2501\u2501\u2501\u2501\u2501\u2501\u2501\u2501\u2501\u2501\u2501\u2501\u001b[0m \u001b[32m24.6/24.6 MB\u001b[0m \u001b[31m83.4 MB/s\u001b[0m eta \u001b[36m0:00:00\u001b[0m\n",
      "\u001b[?25hDownloading nvidia_cuda_runtime_cu12-12.4.127-py3-none-manylinux2014_x86_64.whl (883 kB)\n",
      "\u001b[2K   \u001b[90m\u2501\u2501\u2501\u2501\u2501\u2501\u2501\u2501\u2501\u2501\u2501\u2501\u2501\u2501\u2501\u2501\u2501\u2501\u2501\u2501\u2501\u2501\u2501\u2501\u2501\u2501\u2501\u2501\u2501\u2501\u2501\u2501\u2501\u2501\u2501\u2501\u2501\u2501\u2501\u2501\u001b[0m \u001b[32m883.7/883.7 kB\u001b[0m \u001b[31m50.4 MB/s\u001b[0m eta \u001b[36m0:00:00\u001b[0m\n",
      "\u001b[?25hDownloading nvidia_cudnn_cu12-9.1.0.70-py3-none-manylinux2014_x86_64.whl (664.8 MB)\n",
      "\u001b[2K   \u001b[90m\u2501\u2501\u2501\u2501\u2501\u2501\u2501\u2501\u2501\u2501\u2501\u2501\u2501\u2501\u2501\u2501\u2501\u2501\u2501\u2501\u2501\u2501\u2501\u2501\u2501\u2501\u2501\u2501\u2501\u2501\u2501\u2501\u2501\u2501\u2501\u2501\u2501\u2501\u2501\u2501\u001b[0m \u001b[32m664.8/664.8 MB\u001b[0m \u001b[31m1.4 MB/s\u001b[0m eta \u001b[36m0:00:00\u001b[0m\n",
      "\u001b[?25hDownloading nvidia_cufft_cu12-11.2.1.3-py3-none-manylinux2014_x86_64.whl (211.5 MB)\n",
      "\u001b[2K   \u001b[90m\u2501\u2501\u2501\u2501\u2501\u2501\u2501\u2501\u2501\u2501\u2501\u2501\u2501\u2501\u2501\u2501\u2501\u2501\u2501\u2501\u2501\u2501\u2501\u2501\u2501\u2501\u2501\u2501\u2501\u2501\u2501\u2501\u2501\u2501\u2501\u2501\u2501\u2501\u2501\u2501\u001b[0m \u001b[32m211.5/211.5 MB\u001b[0m \u001b[31m9.4 MB/s\u001b[0m eta \u001b[36m0:00:00\u001b[0m\n",
      "\u001b[?25hDownloading nvidia_curand_cu12-10.3.5.147-py3-none-manylinux2014_x86_64.whl (56.3 MB)\n",
      "\u001b[2K   \u001b[90m\u2501\u2501\u2501\u2501\u2501\u2501\u2501\u2501\u2501\u2501\u2501\u2501\u2501\u2501\u2501\u2501\u2501\u2501\u2501\u2501\u2501\u2501\u2501\u2501\u2501\u2501\u2501\u2501\u2501\u2501\u2501\u2501\u2501\u2501\u2501\u2501\u2501\u2501\u2501\u2501\u001b[0m \u001b[32m56.3/56.3 MB\u001b[0m \u001b[31m36.4 MB/s\u001b[0m eta \u001b[36m0:00:00\u001b[0m\n",
      "\u001b[?25hDownloading nvidia_cusolver_cu12-11.6.1.9-py3-none-manylinux2014_x86_64.whl (127.9 MB)\n",
      "\u001b[2K   \u001b[90m\u2501\u2501\u2501\u2501\u2501\u2501\u2501\u2501\u2501\u2501\u2501\u2501\u2501\u2501\u2501\u2501\u2501\u2501\u2501\u2501\u2501\u2501\u2501\u2501\u2501\u2501\u2501\u2501\u2501\u2501\u2501\u2501\u2501\u2501\u2501\u2501\u2501\u2501\u2501\u2501\u001b[0m \u001b[32m127.9/127.9 MB\u001b[0m \u001b[31m11.2 MB/s\u001b[0m eta \u001b[36m0:00:00\u001b[0m\n",
      "\u001b[?25hDownloading nvidia_cusparse_cu12-12.3.1.170-py3-none-manylinux2014_x86_64.whl (207.5 MB)\n",
      "\u001b[2K   \u001b[90m\u2501\u2501\u2501\u2501\u2501\u2501\u2501\u2501\u2501\u2501\u2501\u2501\u2501\u2501\u2501\u2501\u2501\u2501\u2501\u2501\u2501\u2501\u2501\u2501\u2501\u2501\u2501\u2501\u2501\u2501\u2501\u2501\u2501\u2501\u2501\u2501\u2501\u2501\u2501\u2501\u001b[0m \u001b[32m207.5/207.5 MB\u001b[0m \u001b[31m2.6 MB/s\u001b[0m eta \u001b[36m0:00:00\u001b[0m\n",
      "\u001b[?25hDownloading nvidia_nvjitlink_cu12-12.4.127-py3-none-manylinux2014_x86_64.whl (21.1 MB)\n",
      "\u001b[2K   \u001b[90m\u2501\u2501\u2501\u2501\u2501\u2501\u2501\u2501\u2501\u2501\u2501\u2501\u2501\u2501\u2501\u2501\u2501\u2501\u2501\u2501\u2501\u2501\u2501\u2501\u2501\u2501\u2501\u2501\u2501\u2501\u2501\u2501\u2501\u2501\u2501\u2501\u2501\u2501\u2501\u2501\u001b[0m \u001b[32m21.1/21.1 MB\u001b[0m \u001b[31m91.4 MB/s\u001b[0m eta \u001b[36m0:00:00\u001b[0m\n",
      "\u001b[?25hDownloading xxhash-3.5.0-cp311-cp311-manylinux_2_17_x86_64.manylinux2014_x86_64.whl (194 kB)\n",
      "\u001b[2K   \u001b[90m\u2501\u2501\u2501\u2501\u2501\u2501\u2501\u2501\u2501\u2501\u2501\u2501\u2501\u2501\u2501\u2501\u2501\u2501\u2501\u2501\u2501\u2501\u2501\u2501\u2501\u2501\u2501\u2501\u2501\u2501\u2501\u2501\u2501\u2501\u2501\u2501\u2501\u2501\u2501\u2501\u001b[0m \u001b[32m194.8/194.8 kB\u001b[0m \u001b[31m17.3 MB/s\u001b[0m eta \u001b[36m0:00:00\u001b[0m\n",
      "\u001b[?25hInstalling collected packages: xxhash, nvidia-nvjitlink-cu12, nvidia-curand-cu12, nvidia-cufft-cu12, nvidia-cuda-runtime-cu12, nvidia-cuda-nvrtc-cu12, nvidia-cuda-cupti-cu12, nvidia-cublas-cu12, fsspec, dill, nvidia-cusparse-cu12, nvidia-cudnn-cu12, multiprocess, nvidia-cusolver-cu12, datasets, evaluate, bitsandbytes, trl\n",
      "  Attempting uninstall: nvidia-nvjitlink-cu12\n",
      "    Found existing installation: nvidia-nvjitlink-cu12 12.5.82\n",
      "    Uninstalling nvidia-nvjitlink-cu12-12.5.82:\n",
      "      Successfully uninstalled nvidia-nvjitlink-cu12-12.5.82\n",
      "  Attempting uninstall: nvidia-curand-cu12\n",
      "    Found existing installation: nvidia-curand-cu12 10.3.6.82\n",
      "    Uninstalling nvidia-curand-cu12-10.3.6.82:\n",
      "      Successfully uninstalled nvidia-curand-cu12-10.3.6.82\n",
      "  Attempting uninstall: nvidia-cufft-cu12\n",
      "    Found existing installation: nvidia-cufft-cu12 11.2.3.61\n",
      "    Uninstalling nvidia-cufft-cu12-11.2.3.61:\n",
      "      Successfully uninstalled nvidia-cufft-cu12-11.2.3.61\n",
      "  Attempting uninstall: nvidia-cuda-runtime-cu12\n",
      "    Found existing installation: nvidia-cuda-runtime-cu12 12.5.82\n",
      "    Uninstalling nvidia-cuda-runtime-cu12-12.5.82:\n",
      "      Successfully uninstalled nvidia-cuda-runtime-cu12-12.5.82\n",
      "  Attempting uninstall: nvidia-cuda-nvrtc-cu12\n",
      "    Found existing installation: nvidia-cuda-nvrtc-cu12 12.5.82\n",
      "    Uninstalling nvidia-cuda-nvrtc-cu12-12.5.82:\n",
      "      Successfully uninstalled nvidia-cuda-nvrtc-cu12-12.5.82\n",
      "  Attempting uninstall: nvidia-cuda-cupti-cu12\n",
      "    Found existing installation: nvidia-cuda-cupti-cu12 12.5.82\n",
      "    Uninstalling nvidia-cuda-cupti-cu12-12.5.82:\n",
      "      Successfully uninstalled nvidia-cuda-cupti-cu12-12.5.82\n",
      "  Attempting uninstall: nvidia-cublas-cu12\n",
      "    Found existing installation: nvidia-cublas-cu12 12.5.3.2\n",
      "    Uninstalling nvidia-cublas-cu12-12.5.3.2:\n",
      "      Successfully uninstalled nvidia-cublas-cu12-12.5.3.2\n",
      "  Attempting uninstall: fsspec\n",
      "    Found existing installation: fsspec 2025.3.2\n",
      "    Uninstalling fsspec-2025.3.2:\n",
      "      Successfully uninstalled fsspec-2025.3.2\n",
      "  Attempting uninstall: nvidia-cusparse-cu12\n",
      "    Found existing installation: nvidia-cusparse-cu12 12.5.1.3\n",
      "    Uninstalling nvidia-cusparse-cu12-12.5.1.3:\n",
      "      Successfully uninstalled nvidia-cusparse-cu12-12.5.1.3\n",
      "  Attempting uninstall: nvidia-cudnn-cu12\n",
      "    Found existing installation: nvidia-cudnn-cu12 9.3.0.75\n",
      "    Uninstalling nvidia-cudnn-cu12-9.3.0.75:\n",
      "      Successfully uninstalled nvidia-cudnn-cu12-9.3.0.75\n",
      "  Attempting uninstall: nvidia-cusolver-cu12\n",
      "    Found existing installation: nvidia-cusolver-cu12 11.6.3.83\n",
      "    Uninstalling nvidia-cusolver-cu12-11.6.3.83:\n",
      "      Successfully uninstalled nvidia-cusolver-cu12-11.6.3.83\n",
      "\u001b[31mERROR: pip's dependency resolver does not currently take into account all the packages that are installed. This behaviour is the source of the following dependency conflicts.\n",
      "gcsfs 2025.3.2 requires fsspec==2025.3.2, but you have fsspec 2024.12.0 which is incompatible.\u001b[0m\u001b[31m\n",
      "\u001b[0mSuccessfully installed bitsandbytes-0.45.5 datasets-3.5.0 dill-0.3.8 evaluate-0.4.3 fsspec-2024.12.0 multiprocess-0.70.16 nvidia-cublas-cu12-12.4.5.8 nvidia-cuda-cupti-cu12-12.4.127 nvidia-cuda-nvrtc-cu12-12.4.127 nvidia-cuda-runtime-cu12-12.4.127 nvidia-cudnn-cu12-9.1.0.70 nvidia-cufft-cu12-11.2.1.3 nvidia-curand-cu12-10.3.5.147 nvidia-cusolver-cu12-11.6.1.9 nvidia-cusparse-cu12-12.3.1.170 nvidia-nvjitlink-cu12-12.4.127 trl-0.16.1 xxhash-3.5.0\n",
      "Collecting nvidia-ml-py3\n",
      "  Downloading nvidia-ml-py3-7.352.0.tar.gz (19 kB)\n",
      "  Preparing metadata (setup.py) ... \u001b[?25l\u001b[?25hdone\n",
      "Building wheels for collected packages: nvidia-ml-py3\n",
      "  Building wheel for nvidia-ml-py3 (setup.py) ... \u001b[?25l\u001b[?25hdone\n",
      "  Created wheel for nvidia-ml-py3: filename=nvidia_ml_py3-7.352.0-py3-none-any.whl size=19172 sha256=ec026271e5028e297f264efa9cdde8999a0efc8bcf36ca34378fa235bf28ffe9\n",
      "  Stored in directory: /root/.cache/pip/wheels/47/50/9e/29dc79037d74c3c1bb4a8661fb608e8674b7e4260d6a3f8f51\n",
      "Successfully built nvidia-ml-py3\n",
      "Installing collected packages: nvidia-ml-py3\n",
      "Successfully installed nvidia-ml-py3-7.352.0\n"
     ]
    }
   ],
   "execution_count": 1
  },
  {
   "id": "cca64f38-d8d2-4313-8295-fbbd43c2a263",
   "cell_type": "code",
   "source": [
    "import os\n",
    "import pandas as pd\n",
    "import torch\n",
    "from transformers import RobertaModel, RobertaTokenizer, TrainingArguments, Trainer, DataCollatorWithPadding, RobertaForSequenceClassification\n",
    "from peft import LoraConfig, get_peft_model, PeftModel\n",
    "from datasets import load_dataset, Dataset, ClassLabel\n",
    "import pickle"
   ],
   "metadata": {
    "id": "cca64f38-d8d2-4313-8295-fbbd43c2a263",
    "trusted": true,
    "execution": {
     "iopub.status.busy": "2025-04-10T05:46:49.170796Z",
     "iopub.execute_input": "2025-04-10T05:46:49.171035Z",
     "iopub.status.idle": "2025-04-10T05:46:49.175872Z",
     "shell.execute_reply.started": "2025-04-10T05:46:49.171014Z",
     "shell.execute_reply": "2025-04-10T05:46:49.175038Z"
    }
   },
   "outputs": [],
   "execution_count": 2
  },
  {
   "id": "59d6e377",
   "cell_type": "markdown",
   "source": [
    "## Load Tokenizer and Preprocess Data"
   ],
   "metadata": {
    "id": "59d6e377"
   }
  },
  {
   "id": "21f42747-f551-40a5-a95f-7affb1eba4a3",
   "cell_type": "code",
   "source": [
    "base_model = 'roberta-base'\n",
    "\n",
    "dataset = load_dataset('ag_news', split='train')\n",
    "tokenizer = RobertaTokenizer.from_pretrained(base_model)\n",
    "\n",
    "def preprocess(examples):\n",
    "    tokenized = tokenizer(examples['text'], truncation=True, padding=True)\n",
    "    return tokenized\n",
    "\n",
    "tokenized_dataset = dataset.map(preprocess, batched=True,  remove_columns=[\"text\"])\n",
    "tokenized_dataset = tokenized_dataset.rename_column(\"label\", \"labels\")\n",
    "tokenized_dataset"
   ],
   "metadata": {
    "id": "21f42747-f551-40a5-a95f-7affb1eba4a3",
    "trusted": true,
    "execution": {
     "iopub.status.busy": "2025-04-10T05:46:49.177393Z",
     "iopub.execute_input": "2025-04-10T05:46:49.177620Z",
     "iopub.status.idle": "2025-04-10T05:46:55.670234Z",
     "shell.execute_reply.started": "2025-04-10T05:46:49.177602Z",
     "shell.execute_reply": "2025-04-10T05:46:55.669361Z"
    },
    "colab": {
     "base_uri": "https://localhost:8080/",
     "height": 568,
     "referenced_widgets": [
      "21db9211b0f740e78ebf8a58955264bb",
      "10fffb9d018c413d985546f514ad113f",
      "4843f973ea374fd5b9b5a970a2bd46e3",
      "ae4f2c6b95c34b88a17cc5baea66e22e",
      "141b389d1f7e42cda769104a2de648ea",
      "95f63a5862d64f6c81a95e8ac14ded78",
      "a6530cc88b3c4ef293cb39de76a3a046",
      "4a232486221b471caf12ce3685c58c13",
      "3566f06e9f844282a90df1a812d5c4fa",
      "4de6cf76b77a4e4c9d927160ba7e92b6",
      "3034f362936b4812b751e9feb1d2e8ff",
      "e2ffceb74acf4d049facb279ea90a72d",
      "1f1d4008a0554791b889b399a6a10780",
      "1929b36c51eb4f59aa6edff0dc1855a9",
      "13f8e8515c0349d6a3a0693ba54f1a85",
      "6d269d92a6c74d618a2cfb15f0d80b6b",
      "f7bcc36a59fc4752bd5879ab2a645fc1",
      "b136615423444d73b563a3c9936906bc",
      "5f3bf066d77d437aa2311041b9090d69",
      "6bd5bc92cd1a48e68658a52456ff2750",
      "92b726b0c6b049519201a10fae83c98f",
      "dd4bb24963a645dc8db9a28fa8313970",
      "f141ff1063034c2884a23a4b04e6b510",
      "d030261069f74802bca1992717d1b1c6",
      "a82219c5ffa54cfaae6b3b3b559e02db",
      "094afc422cbf41e9b3fbc98f2290ac2c",
      "1e818b9fe005472986675af02ea88dba",
      "2b5aa142309247c1bbf25fa27450d315",
      "f894620d99ce44b1a65ac32182232e3a",
      "31435291df064786bf91989001368fae",
      "d5c5a8e690074dd2a4122a14e9edb8b0",
      "3519f02e430a4d62a70eb6d0d6b57dbc",
      "7646c1ed262843399c710c5676a63fb6",
      "179274301e644cea9182dbc7d2d825ba",
      "0494a04efaf548ef92bff6fd56c32a2d",
      "8d25f7e08a934544ac2041fbc3b31300",
      "4d31dd958fb64e03857cd1757d92ae0d",
      "dd6c49165296485a810fc2486feeb1c3",
      "f504f603d0984d04a5bc9d7be1b5d55e",
      "625e8bdcc1844d1c8487168bca098e13",
      "b4b7d0b9a7d345579ab38cb754e18a78",
      "dafe9046b69d4226aca5f8a8e87c20b0",
      "b6fa7c23215344a2a4ac19a7ba8e5a00",
      "9cfc2367f40f4d3f972244da3302593f",
      "13da9bea7ebf4cee88df3b297f277c34",
      "e7ac3f37f4ff42f7a53e1258710d655a",
      "384fe6ce86df4418a164b5fea66c1090",
      "6560f9a5cf4f45618b248801fdbcc5ab",
      "57e9e9ca70e6496b93c357ebab1167d8",
      "025cca3fa78b4e31bd60db73f7c30b97",
      "ea3086c536bf48dc841d9b22d8a2542a",
      "60efaf04a65e48dab8c36cc5d067743f",
      "06646dd73eed406eb5943d848197990b",
      "b1e134c54af740a2af158db21b90b848",
      "59710ec253234359b52dc14a2b7e4489",
      "ed6f05216480437c93d89eb75ef1018e",
      "f11f8428e032486abf3957b180b233ea",
      "e45d23f28e7e4198917c3b4e4079f4c8",
      "1f9aad94dc314c6c9496624e66119b67",
      "42e74510e6f54a1287de2cc3866fa00a",
      "26ee74ec2e5e4ea5a4b2df0404d3e97a",
      "9ff86a0682dd475fa596f71b9db1a473",
      "8a5626d565be49a5bfb1450dfe7d7a7c",
      "4e4fde2095f74672a9d78b7f663f5676",
      "143afce7f4d74ec3ad2a5f7b751c339d",
      "f7fb947013484ecda6f6815f69d50666",
      "c097e03ff7a94686ae6e33415aa39a32",
      "4e71ecd604cd4594bf17c2e7ec507a38",
      "7cb177d5d06d46c192aeb24268f04bd9",
      "285222529261458abe9ab52b4d59e1fe",
      "3640b3fde77842649d1cecf8a8ba3c5c",
      "ed2877833997475697e50ab66ebcfeb6",
      "66d80aac9a834c5f90e555ea4828e7bb",
      "77882a1e3aba473f8baffabf2b2afe58",
      "635654c293a3494daba8ebabeaad57aa",
      "cc97716d260d45f788cd25cc31426dda",
      "28994041d5be40729178f7990d6c0ba3",
      "2e314ec7ed6c40d98bfbf69834c61956",
      "0a5381b1c4564c48a66b5e2973e75d4c",
      "f6a5b84d3f5a4915a5a8a41b943600e3",
      "680e3c6373b74f20b574fbe5174b46e2",
      "2dee8fc71ed84504bdc702ad70c51c21",
      "18d9ca7a8f4e4be5b883e8c06643b586",
      "9e622a6fa384457faf50ca3fad3e6c6c",
      "4e825149952b49f38974d63dcc843c56",
      "2313c82e9dbf4e44b554b9ff7b81f22f",
      "3add6a5ab4c44a4ca2c859234cfaedcd",
      "8fcec4e161754b819ec37e73d45b940b",
      "7c54325afe584be38a8f97c7c51f0002",
      "7f68ba05fd044455a699835f9edecd99",
      "9208faca558e49ff8943d737d85978b2",
      "b53457045bea46ee8db9a2d899be1d8c",
      "15612dabde7444068d6d21a1e0df5713",
      "80d8587d340b40d689f90497c713aaff",
      "7297063b4c3441a6a885e1f1f3b91e13",
      "bb6b015619d3469ba9ca8c7ffb564df7",
      "ac1e362cf68748818fcbbcae1a1ca398",
      "438a4616f30440c68aa644e95eb7bf29",
      "1582db2eff30426b95399e8830240c1b",
      "176c3e4aa9e04dc88cea9957f37b1894",
      "2a02367aaa84470d89a8bd37210e60d7",
      "02373b63cf4b4b788ced5a5b985c506c",
      "ab717cd4262f46f5ba4ed3e061af0a56",
      "34717fecc2cf4e4c8ff7da7c4c52271e",
      "80e85c16111344169ccafcf2a4589b78",
      "19b0c7f6576a4e3a8e04b19e23e3150c",
      "1c4cfa53bdfe41c0958e958691be2580",
      "0b509f44c16f42eeb0f7a31ad1d6f1ea",
      "4a4237e3d40b4ea7af4a1777f21075e1",
      "16dd8e969c184db09c892add3c5f34a7",
      "ef47a071af5c495391d9533fbaa0dfef",
      "10828b64b1444a25bdcdd5f537bbab82",
      "7459eed8df494883a345ece44fd04b46",
      "d114e54699224a0d967d396b86b1a709",
      "14af410ecc8d41b1925182f85037d80e",
      "b4248a4a22ab47f58e55745ced1e76c8",
      "459d3d423553468aa366badfe59e40f0",
      "a83b5fd10e304216a5adf182d258bcbc",
      "187eff4dd897474188eb815f812248d3",
      "80d00642f28048af9e99a98075fd80bc",
      "19b50b1672ee4739875dd259cafda8ab"
     ]
    },
    "outputId": "e80fc463-1465-45cf-e215-ecb64af5880c"
   },
   "outputs": [
    {
     "output_type": "stream",
     "name": "stderr",
     "text": [
      "/usr/local/lib/python3.11/dist-packages/huggingface_hub/utils/_auth.py:94: UserWarning: \n",
      "The secret `HF_TOKEN` does not exist in your Colab secrets.\n",
      "To authenticate with the Hugging Face Hub, create a token in your settings tab (https://huggingface.co/settings/tokens), set it as secret in your Google Colab and restart your session.\n",
      "You will be able to reuse this secret in all of your notebooks.\n",
      "Please note that authentication is recommended but still optional to access public models or datasets.\n",
      "  warnings.warn(\n"
     ]
    },
    {
     "output_type": "display_data",
     "data": {
      "text/plain": [
       "README.md:   0%|          | 0.00/8.07k [00:00<?, ?B/s]"
      ],
      "application/vnd.jupyter.widget-view+json": {
       "version_major": 2,
       "version_minor": 0,
       "model_id": "21db9211b0f740e78ebf8a58955264bb"
      }
     },
     "metadata": {}
    },
    {
     "output_type": "display_data",
     "data": {
      "text/plain": [
       "train-00000-of-00001.parquet:   0%|          | 0.00/18.6M [00:00<?, ?B/s]"
      ],
      "application/vnd.jupyter.widget-view+json": {
       "version_major": 2,
       "version_minor": 0,
       "model_id": "e2ffceb74acf4d049facb279ea90a72d"
      }
     },
     "metadata": {}
    },
    {
     "output_type": "display_data",
     "data": {
      "text/plain": [
       "test-00000-of-00001.parquet:   0%|          | 0.00/1.23M [00:00<?, ?B/s]"
      ],
      "application/vnd.jupyter.widget-view+json": {
       "version_major": 2,
       "version_minor": 0,
       "model_id": "f141ff1063034c2884a23a4b04e6b510"
      }
     },
     "metadata": {}
    },
    {
     "output_type": "display_data",
     "data": {
      "text/plain": [
       "Generating train split:   0%|          | 0/120000 [00:00<?, ? examples/s]"
      ],
      "application/vnd.jupyter.widget-view+json": {
       "version_major": 2,
       "version_minor": 0,
       "model_id": "179274301e644cea9182dbc7d2d825ba"
      }
     },
     "metadata": {}
    },
    {
     "output_type": "display_data",
     "data": {
      "text/plain": [
       "Generating test split:   0%|          | 0/7600 [00:00<?, ? examples/s]"
      ],
      "application/vnd.jupyter.widget-view+json": {
       "version_major": 2,
       "version_minor": 0,
       "model_id": "13da9bea7ebf4cee88df3b297f277c34"
      }
     },
     "metadata": {}
    },
    {
     "output_type": "display_data",
     "data": {
      "text/plain": [
       "tokenizer_config.json:   0%|          | 0.00/25.0 [00:00<?, ?B/s]"
      ],
      "application/vnd.jupyter.widget-view+json": {
       "version_major": 2,
       "version_minor": 0,
       "model_id": "ed6f05216480437c93d89eb75ef1018e"
      }
     },
     "metadata": {}
    },
    {
     "output_type": "display_data",
     "data": {
      "text/plain": [
       "vocab.json:   0%|          | 0.00/899k [00:00<?, ?B/s]"
      ],
      "application/vnd.jupyter.widget-view+json": {
       "version_major": 2,
       "version_minor": 0,
       "model_id": "c097e03ff7a94686ae6e33415aa39a32"
      }
     },
     "metadata": {}
    },
    {
     "output_type": "display_data",
     "data": {
      "text/plain": [
       "merges.txt:   0%|          | 0.00/456k [00:00<?, ?B/s]"
      ],
      "application/vnd.jupyter.widget-view+json": {
       "version_major": 2,
       "version_minor": 0,
       "model_id": "2e314ec7ed6c40d98bfbf69834c61956"
      }
     },
     "metadata": {}
    },
    {
     "output_type": "display_data",
     "data": {
      "text/plain": [
       "tokenizer.json:   0%|          | 0.00/1.36M [00:00<?, ?B/s]"
      ],
      "application/vnd.jupyter.widget-view+json": {
       "version_major": 2,
       "version_minor": 0,
       "model_id": "7c54325afe584be38a8f97c7c51f0002"
      }
     },
     "metadata": {}
    },
    {
     "output_type": "display_data",
     "data": {
      "text/plain": [
       "config.json:   0%|          | 0.00/481 [00:00<?, ?B/s]"
      ],
      "application/vnd.jupyter.widget-view+json": {
       "version_major": 2,
       "version_minor": 0,
       "model_id": "176c3e4aa9e04dc88cea9957f37b1894"
      }
     },
     "metadata": {}
    },
    {
     "output_type": "display_data",
     "data": {
      "text/plain": [
       "Map:   0%|          | 0/120000 [00:00<?, ? examples/s]"
      ],
      "application/vnd.jupyter.widget-view+json": {
       "version_major": 2,
       "version_minor": 0,
       "model_id": "ef47a071af5c495391d9533fbaa0dfef"
      }
     },
     "metadata": {}
    },
    {
     "output_type": "execute_result",
     "data": {
      "text/plain": [
       "Dataset({\n",
       "    features: ['labels', 'input_ids', 'attention_mask'],\n",
       "    num_rows: 120000\n",
       "})"
      ]
     },
     "metadata": {},
     "execution_count": 3
    }
   ],
   "execution_count": 3
  },
  {
   "id": "e483f533-6979-40da-a58b-4ec32db4c9ba",
   "cell_type": "code",
   "source": [
    "dataset[100000]"
   ],
   "metadata": {
    "trusted": true,
    "execution": {
     "iopub.status.busy": "2025-04-10T05:46:55.671616Z",
     "iopub.execute_input": "2025-04-10T05:46:55.671958Z",
     "iopub.status.idle": "2025-04-10T05:46:55.677471Z",
     "shell.execute_reply.started": "2025-04-10T05:46:55.671927Z",
     "shell.execute_reply": "2025-04-10T05:46:55.676580Z"
    },
    "colab": {
     "base_uri": "https://localhost:8080/"
    },
    "id": "e483f533-6979-40da-a58b-4ec32db4c9ba",
    "outputId": "7d5ca032-5855-4600-df97-f0ec78cf95ee"
   },
   "outputs": [
    {
     "output_type": "execute_result",
     "data": {
      "text/plain": [
       "{'text': \"Venezuelan Car-Bomb Suspect Killed, Weapons Found  CARACAS, Venezuela (Reuters) - A Venezuelan lawyer  suspected in last week's bombing murder of a top state  prosecutor was killed in a gunfight with police on Tuesday  after he tried to ram detectives with his car and opened fire  on them, officials said.\",\n",
       " 'label': 0}"
      ]
     },
     "metadata": {},
     "execution_count": 4
    }
   ],
   "execution_count": 4
  },
  {
   "id": "9e07f641-bec0-43a6-8c26-510d7642916a",
   "cell_type": "code",
   "source": [
    "# Extract the number of classess and their names\n",
    "num_labels = dataset.features['label'].num_classes\n",
    "class_names = dataset.features[\"label\"].names\n",
    "print(f\"number of labels: {num_labels}\")\n",
    "print(f\"the labels: {class_names}\")\n",
    "\n",
    "# Create an id2label mapping\n",
    "# We will need this for our classifier.\n",
    "id2label = {i: label for i, label in enumerate(class_names)}\n",
    "\n",
    "data_collator = DataCollatorWithPadding(tokenizer=tokenizer, return_tensors=\"pt\")"
   ],
   "metadata": {
    "id": "9e07f641-bec0-43a6-8c26-510d7642916a",
    "trusted": true,
    "execution": {
     "iopub.status.busy": "2025-04-10T05:46:55.678313Z",
     "iopub.execute_input": "2025-04-10T05:46:55.678564Z",
     "iopub.status.idle": "2025-04-10T05:46:55.693918Z",
     "shell.execute_reply.started": "2025-04-10T05:46:55.678545Z",
     "shell.execute_reply": "2025-04-10T05:46:55.693017Z"
    },
    "colab": {
     "base_uri": "https://localhost:8080/"
    },
    "outputId": "4fcfda3d-1af8-4eae-c2f8-7f5939b6e9fb"
   },
   "outputs": [
    {
     "output_type": "stream",
     "name": "stdout",
     "text": [
      "number of labels: 4\n",
      "the labels: ['World', 'Sports', 'Business', 'Sci/Tech']\n"
     ]
    }
   ],
   "execution_count": 5
  },
  {
   "id": "de31f01d-2eb5-4167-a870-a35c08506667",
   "cell_type": "code",
   "source": [
    "id2label"
   ],
   "metadata": {
    "trusted": true,
    "execution": {
     "iopub.status.busy": "2025-04-10T05:46:55.694855Z",
     "iopub.execute_input": "2025-04-10T05:46:55.695149Z",
     "iopub.status.idle": "2025-04-10T05:46:55.707741Z",
     "shell.execute_reply.started": "2025-04-10T05:46:55.695121Z",
     "shell.execute_reply": "2025-04-10T05:46:55.706990Z"
    },
    "colab": {
     "base_uri": "https://localhost:8080/"
    },
    "id": "de31f01d-2eb5-4167-a870-a35c08506667",
    "outputId": "be4fda02-da3e-43cc-9c5c-eeb7e4a7b496"
   },
   "outputs": [
    {
     "output_type": "execute_result",
     "data": {
      "text/plain": [
       "{0: 'World', 1: 'Sports', 2: 'Business', 3: 'Sci/Tech'}"
      ]
     },
     "metadata": {},
     "execution_count": 6
    }
   ],
   "execution_count": 6
  },
  {
   "id": "c9e24afd",
   "cell_type": "markdown",
   "source": [
    "## Load Pre-trained Model\n",
    "Set up config for pretrained model and download it from hugging face"
   ],
   "metadata": {
    "id": "c9e24afd"
   }
  },
  {
   "id": "262a8416-a59c-4ea1-95d9-0b1f81d6094c",
   "cell_type": "code",
   "source": [
    "model = RobertaForSequenceClassification.from_pretrained(\n",
    "    base_model,\n",
    "    id2label=id2label)\n",
    "model"
   ],
   "metadata": {
    "id": "262a8416-a59c-4ea1-95d9-0b1f81d6094c",
    "trusted": true,
    "execution": {
     "iopub.status.busy": "2025-04-10T05:46:55.708457Z",
     "iopub.execute_input": "2025-04-10T05:46:55.708724Z",
     "iopub.status.idle": "2025-04-10T05:46:56.445134Z",
     "shell.execute_reply.started": "2025-04-10T05:46:55.708704Z",
     "shell.execute_reply": "2025-04-10T05:46:56.444417Z"
    },
    "colab": {
     "base_uri": "https://localhost:8080/",
     "height": 926,
     "referenced_widgets": [
      "704e75b411fe437e81c62e740ea218d0",
      "b64b31cef97948d980840bf85c7704c8",
      "b14d06de6d8d48ef8ff70cb36e5632ca",
      "319c4be6f8b24ca4baba3ff9ba5b17f9",
      "3ca4646698354e20b094c9c61b3731ec",
      "40bb2b220798451ab57fdc9386d97647",
      "7e61236ec7374142afd09e3bb3a17ab7",
      "34874327080944779f4b864159946798",
      "35a5564b81c040bca133b232e616c3a3",
      "df20d134e7e342b497516cd32d6a865f",
      "88d29765641f4ba792762d0787e8fc8e"
     ]
    },
    "outputId": "87fd2f0f-8bb6-4b84-e03e-d7f9db88f09d"
   },
   "outputs": [
    {
     "output_type": "stream",
     "name": "stderr",
     "text": [
      "Xet Storage is enabled for this repo, but the 'hf_xet' package is not installed. Falling back to regular HTTP download. For better performance, install the package with: `pip install huggingface_hub[hf_xet]` or `pip install hf_xet`\n",
      "WARNING:huggingface_hub.file_download:Xet Storage is enabled for this repo, but the 'hf_xet' package is not installed. Falling back to regular HTTP download. For better performance, install the package with: `pip install huggingface_hub[hf_xet]` or `pip install hf_xet`\n"
     ]
    },
    {
     "output_type": "display_data",
     "data": {
      "text/plain": [
       "model.safetensors:   0%|          | 0.00/499M [00:00<?, ?B/s]"
      ],
      "application/vnd.jupyter.widget-view+json": {
       "version_major": 2,
       "version_minor": 0,
       "model_id": "704e75b411fe437e81c62e740ea218d0"
      }
     },
     "metadata": {}
    },
    {
     "output_type": "stream",
     "name": "stderr",
     "text": [
      "Some weights of RobertaForSequenceClassification were not initialized from the model checkpoint at roberta-base and are newly initialized: ['classifier.dense.bias', 'classifier.dense.weight', 'classifier.out_proj.bias', 'classifier.out_proj.weight']\n",
      "You should probably TRAIN this model on a down-stream task to be able to use it for predictions and inference.\n"
     ]
    },
    {
     "output_type": "execute_result",
     "data": {
      "text/plain": [
       "RobertaForSequenceClassification(\n",
       "  (roberta): RobertaModel(\n",
       "    (embeddings): RobertaEmbeddings(\n",
       "      (word_embeddings): Embedding(50265, 768, padding_idx=1)\n",
       "      (position_embeddings): Embedding(514, 768, padding_idx=1)\n",
       "      (token_type_embeddings): Embedding(1, 768)\n",
       "      (LayerNorm): LayerNorm((768,), eps=1e-05, elementwise_affine=True)\n",
       "      (dropout): Dropout(p=0.1, inplace=False)\n",
       "    )\n",
       "    (encoder): RobertaEncoder(\n",
       "      (layer): ModuleList(\n",
       "        (0-11): 12 x RobertaLayer(\n",
       "          (attention): RobertaAttention(\n",
       "            (self): RobertaSdpaSelfAttention(\n",
       "              (query): Linear(in_features=768, out_features=768, bias=True)\n",
       "              (key): Linear(in_features=768, out_features=768, bias=True)\n",
       "              (value): Linear(in_features=768, out_features=768, bias=True)\n",
       "              (dropout): Dropout(p=0.1, inplace=False)\n",
       "            )\n",
       "            (output): RobertaSelfOutput(\n",
       "              (dense): Linear(in_features=768, out_features=768, bias=True)\n",
       "              (LayerNorm): LayerNorm((768,), eps=1e-05, elementwise_affine=True)\n",
       "              (dropout): Dropout(p=0.1, inplace=False)\n",
       "            )\n",
       "          )\n",
       "          (intermediate): RobertaIntermediate(\n",
       "            (dense): Linear(in_features=768, out_features=3072, bias=True)\n",
       "            (intermediate_act_fn): GELUActivation()\n",
       "          )\n",
       "          (output): RobertaOutput(\n",
       "            (dense): Linear(in_features=3072, out_features=768, bias=True)\n",
       "            (LayerNorm): LayerNorm((768,), eps=1e-05, elementwise_affine=True)\n",
       "            (dropout): Dropout(p=0.1, inplace=False)\n",
       "          )\n",
       "        )\n",
       "      )\n",
       "    )\n",
       "  )\n",
       "  (classifier): RobertaClassificationHead(\n",
       "    (dense): Linear(in_features=768, out_features=768, bias=True)\n",
       "    (dropout): Dropout(p=0.1, inplace=False)\n",
       "    (out_proj): Linear(in_features=768, out_features=4, bias=True)\n",
       "  )\n",
       ")"
      ]
     },
     "metadata": {},
     "execution_count": 7
    }
   ],
   "execution_count": 7
  },
  {
   "id": "f265839d-a088-4693-8474-862641de11ed",
   "cell_type": "markdown",
   "source": [
    "## Anything from here on can be modified"
   ],
   "metadata": {
    "id": "f265839d-a088-4693-8474-862641de11ed"
   }
  },
  {
   "id": "e7413430-be57-482b-856e-36bd4ba799df",
   "cell_type": "code",
   "source": [
    "# Split the original training set\n",
    "split_datasets = tokenized_dataset.train_test_split(test_size=640, seed=42)\n",
    "train_dataset = split_datasets['train']\n",
    "eval_dataset = split_datasets['test']"
   ],
   "metadata": {
    "id": "e7413430-be57-482b-856e-36bd4ba799df",
    "trusted": true,
    "execution": {
     "iopub.status.busy": "2025-04-10T05:46:56.447566Z",
     "iopub.execute_input": "2025-04-10T05:46:56.447792Z",
     "iopub.status.idle": "2025-04-10T05:46:56.457136Z",
     "shell.execute_reply.started": "2025-04-10T05:46:56.447774Z",
     "shell.execute_reply": "2025-04-10T05:46:56.456495Z"
    }
   },
   "outputs": [],
   "execution_count": 8
  },
  {
   "id": "652452e3",
   "cell_type": "markdown",
   "source": [
    "## Setup LoRA Config\n",
    "Setup PEFT config and get peft model for finetuning"
   ],
   "metadata": {
    "id": "652452e3"
   }
  },
  {
   "id": "bd0ca0ea-86b8-47f7-8cbf-83da25685876",
   "cell_type": "code",
   "source": [
    "# PEFT Config\n",
    "peft_config = LoraConfig(\n",
    "    r=2,\n",
    "    lora_alpha=4,\n",
    "    lora_dropout=0.05,\n",
    "    bias = 'none',\n",
    "    target_modules = ['query'],\n",
    "    task_type=\"SEQ_CLS\",\n",
    ")"
   ],
   "metadata": {
    "id": "bd0ca0ea-86b8-47f7-8cbf-83da25685876",
    "trusted": true,
    "execution": {
     "iopub.status.busy": "2025-04-10T05:46:56.458362Z",
     "iopub.execute_input": "2025-04-10T05:46:56.458616Z",
     "iopub.status.idle": "2025-04-10T05:46:56.467419Z",
     "shell.execute_reply.started": "2025-04-10T05:46:56.458592Z",
     "shell.execute_reply": "2025-04-10T05:46:56.466597Z"
    }
   },
   "outputs": [],
   "execution_count": 23
  },
  {
   "id": "6ec2739d-76b6-4fde-91c2-0fc49e1884b0",
   "cell_type": "code",
   "source": [
    "peft_model = get_peft_model(model, peft_config)\n",
    "peft_model"
   ],
   "metadata": {
    "id": "6ec2739d-76b6-4fde-91c2-0fc49e1884b0",
    "trusted": true,
    "execution": {
     "iopub.status.busy": "2025-04-10T05:46:56.468215Z",
     "iopub.execute_input": "2025-04-10T05:46:56.468498Z",
     "iopub.status.idle": "2025-04-10T05:46:56.505008Z",
     "shell.execute_reply.started": "2025-04-10T05:46:56.468470Z",
     "shell.execute_reply": "2025-04-10T05:46:56.504154Z"
    },
    "colab": {
     "base_uri": "https://localhost:8080/"
    },
    "outputId": "e9b61b26-e718-4c4b-9691-088963289f72"
   },
   "outputs": [
    {
     "output_type": "execute_result",
     "data": {
      "text/plain": [
       "PeftModelForSequenceClassification(\n",
       "  (base_model): LoraModel(\n",
       "    (model): RobertaForSequenceClassification(\n",
       "      (roberta): RobertaModel(\n",
       "        (embeddings): RobertaEmbeddings(\n",
       "          (word_embeddings): Embedding(50265, 768, padding_idx=1)\n",
       "          (position_embeddings): Embedding(514, 768, padding_idx=1)\n",
       "          (token_type_embeddings): Embedding(1, 768)\n",
       "          (LayerNorm): LayerNorm((768,), eps=1e-05, elementwise_affine=True)\n",
       "          (dropout): Dropout(p=0.1, inplace=False)\n",
       "        )\n",
       "        (encoder): RobertaEncoder(\n",
       "          (layer): ModuleList(\n",
       "            (0-11): 12 x RobertaLayer(\n",
       "              (attention): RobertaAttention(\n",
       "                (self): RobertaSdpaSelfAttention(\n",
       "                  (query): lora.Linear(\n",
       "                    (base_layer): Linear(in_features=768, out_features=768, bias=True)\n",
       "                    (lora_dropout): ModuleDict(\n",
       "                      (default): Dropout(p=0.05, inplace=False)\n",
       "                    )\n",
       "                    (lora_A): ModuleDict(\n",
       "                      (default): Linear(in_features=768, out_features=2, bias=False)\n",
       "                    )\n",
       "                    (lora_B): ModuleDict(\n",
       "                      (default): Linear(in_features=2, out_features=768, bias=False)\n",
       "                    )\n",
       "                    (lora_embedding_A): ParameterDict()\n",
       "                    (lora_embedding_B): ParameterDict()\n",
       "                    (lora_magnitude_vector): ModuleDict()\n",
       "                  )\n",
       "                  (key): Linear(in_features=768, out_features=768, bias=True)\n",
       "                  (value): Linear(in_features=768, out_features=768, bias=True)\n",
       "                  (dropout): Dropout(p=0.1, inplace=False)\n",
       "                )\n",
       "                (output): RobertaSelfOutput(\n",
       "                  (dense): Linear(in_features=768, out_features=768, bias=True)\n",
       "                  (LayerNorm): LayerNorm((768,), eps=1e-05, elementwise_affine=True)\n",
       "                  (dropout): Dropout(p=0.1, inplace=False)\n",
       "                )\n",
       "              )\n",
       "              (intermediate): RobertaIntermediate(\n",
       "                (dense): Linear(in_features=768, out_features=3072, bias=True)\n",
       "                (intermediate_act_fn): GELUActivation()\n",
       "              )\n",
       "              (output): RobertaOutput(\n",
       "                (dense): Linear(in_features=3072, out_features=768, bias=True)\n",
       "                (LayerNorm): LayerNorm((768,), eps=1e-05, elementwise_affine=True)\n",
       "                (dropout): Dropout(p=0.1, inplace=False)\n",
       "              )\n",
       "            )\n",
       "          )\n",
       "        )\n",
       "      )\n",
       "      (classifier): ModulesToSaveWrapper(\n",
       "        (original_module): RobertaClassificationHead(\n",
       "          (dense): Linear(in_features=768, out_features=768, bias=True)\n",
       "          (dropout): Dropout(p=0.1, inplace=False)\n",
       "          (out_proj): Linear(in_features=768, out_features=4, bias=True)\n",
       "        )\n",
       "        (modules_to_save): ModuleDict(\n",
       "          (default): RobertaClassificationHead(\n",
       "            (dense): Linear(in_features=768, out_features=768, bias=True)\n",
       "            (dropout): Dropout(p=0.1, inplace=False)\n",
       "            (out_proj): Linear(in_features=768, out_features=4, bias=True)\n",
       "          )\n",
       "        )\n",
       "      )\n",
       "    )\n",
       "  )\n",
       ")"
      ]
     },
     "metadata": {},
     "execution_count": 24
    }
   ],
   "execution_count": 24
  },
  {
   "id": "a769f54e-05ad-4e3c-aae8-d00d1d9dfb2f",
   "cell_type": "code",
   "source": [
    "# print(\"Trainable parameters:\")\n",
    "# for name, param in peft_model.named_parameters():\n",
    "#     if param.requires_grad:\n",
    "#         print(name)"
   ],
   "metadata": {
    "id": "a769f54e-05ad-4e3c-aae8-d00d1d9dfb2f",
    "trusted": true,
    "execution": {
     "iopub.status.busy": "2025-04-10T05:46:56.505886Z",
     "iopub.execute_input": "2025-04-10T05:46:56.506122Z",
     "iopub.status.idle": "2025-04-10T05:46:56.509452Z",
     "shell.execute_reply.started": "2025-04-10T05:46:56.506102Z",
     "shell.execute_reply": "2025-04-10T05:46:56.508661Z"
    }
   },
   "outputs": [],
   "execution_count": 25
  },
  {
   "id": "da45f85c-b016-4c49-8808-6eafa7cb5d1b",
   "cell_type": "code",
   "source": [
    "print('PEFT Model')\n",
    "peft_model.print_trainable_parameters()"
   ],
   "metadata": {
    "id": "da45f85c-b016-4c49-8808-6eafa7cb5d1b",
    "trusted": true,
    "execution": {
     "iopub.status.busy": "2025-04-10T05:46:56.510267Z",
     "iopub.execute_input": "2025-04-10T05:46:56.510521Z",
     "iopub.status.idle": "2025-04-10T05:46:56.527230Z",
     "shell.execute_reply.started": "2025-04-10T05:46:56.510501Z",
     "shell.execute_reply": "2025-04-10T05:46:56.526484Z"
    },
    "colab": {
     "base_uri": "https://localhost:8080/"
    },
    "outputId": "79cdefc5-5c07-46f4-974f-71cc51bcb265"
   },
   "outputs": [
    {
     "output_type": "stream",
     "name": "stdout",
     "text": [
      "PEFT Model\n",
      "trainable params: 630,532 || all params: 125,279,240 || trainable%: 0.5033\n"
     ]
    }
   ],
   "execution_count": 26
  },
  {
   "id": "12284b58",
   "cell_type": "markdown",
   "source": [
    "## Training Setup"
   ],
   "metadata": {
    "id": "12284b58"
   }
  },
  {
   "id": "0ee64c43-fe38-479a-b3c5-7d939a3db4c1",
   "cell_type": "code",
   "source": [
    "# To track evaluation accuracy during training\n",
    "from sklearn.metrics import accuracy_score, precision_score, recall_score, f1_score\n",
    "\n",
    "def compute_metrics(pred):\n",
    "    labels = pred.label_ids\n",
    "    preds = pred.predictions.argmax(-1)\n",
    "    # Calculate accuracy\n",
    "    accuracy = accuracy_score(labels, preds)\n",
    "    return {\n",
    "        'accuracy': accuracy\n",
    "    }"
   ],
   "metadata": {
    "id": "0ee64c43-fe38-479a-b3c5-7d939a3db4c1",
    "trusted": true,
    "execution": {
     "iopub.status.busy": "2025-04-10T05:46:56.527915Z",
     "iopub.execute_input": "2025-04-10T05:46:56.528095Z",
     "iopub.status.idle": "2025-04-10T05:46:56.540891Z",
     "shell.execute_reply.started": "2025-04-10T05:46:56.528079Z",
     "shell.execute_reply": "2025-04-10T05:46:56.540045Z"
    }
   },
   "outputs": [],
   "execution_count": 27
  },
  {
   "id": "768b4917-65de-4e55-ae7f-698e287535d4",
   "cell_type": "code",
   "source": [
    "# Setup Training args\n",
    "output_dir = \"results\"\n",
    "training_args = TrainingArguments(\n",
    "    output_dir=output_dir,\n",
    "    report_to='none',\n",
    "    eval_strategy='epoch',\n",
    "    learning_rate=5e-4,\n",
    "    num_train_epochs=3,\n",
    "    dataloader_num_workers=8,\n",
    "    per_device_train_batch_size=32,\n",
    "    per_device_eval_batch_size=64,\n",
    "    optim=\"adamw_torch\",\n",
    "    logging_dir=\"./logs\",\n",
    "    weight_decay=0.01,\n",
    "    gradient_checkpointing=False,\n",
    "    gradient_checkpointing_kwargs={'use_reentrant':True}\n",
    ")\n",
    "\n",
    "def get_trainer(model):\n",
    "      return  Trainer(\n",
    "          model=model,\n",
    "          args=training_args,\n",
    "          compute_metrics=compute_metrics,\n",
    "          train_dataset=train_dataset,\n",
    "          eval_dataset=eval_dataset,\n",
    "          data_collator=data_collator,\n",
    "      )"
   ],
   "metadata": {
    "id": "768b4917-65de-4e55-ae7f-698e287535d4",
    "trusted": true,
    "execution": {
     "iopub.status.busy": "2025-04-10T05:46:56.541732Z",
     "iopub.execute_input": "2025-04-10T05:46:56.542037Z",
     "iopub.status.idle": "2025-04-10T05:46:56.579938Z",
     "shell.execute_reply.started": "2025-04-10T05:46:56.542017Z",
     "shell.execute_reply": "2025-04-10T05:46:56.578985Z"
    }
   },
   "outputs": [],
   "execution_count": 28
  },
  {
   "id": "9b848278",
   "cell_type": "markdown",
   "source": [
    "### Start Training"
   ],
   "metadata": {
    "id": "9b848278"
   }
  },
  {
   "id": "98d9d57d-b57f-4acc-80fb-fc5443e75515",
   "cell_type": "code",
   "source": [
    "# Use GPU if available\n",
    "device = torch.device(\"cuda\" if torch.cuda.is_available() else \"cpu\")\n",
    "print(f\"Using device: {device}\")\n",
    "\n",
    "peft_model.to(device)\n",
    "\n",
    "peft_lora_finetuning_trainer = get_trainer(peft_model)\n",
    "\n",
    "result = peft_lora_finetuning_trainer.train()"
   ],
   "metadata": {
    "id": "98d9d57d-b57f-4acc-80fb-fc5443e75515",
    "trusted": true,
    "execution": {
     "iopub.status.busy": "2025-04-10T05:46:56.580771Z",
     "iopub.execute_input": "2025-04-10T05:46:56.580992Z",
     "iopub.status.idle": "2025-04-10T05:49:16.655244Z",
     "shell.execute_reply.started": "2025-04-10T05:46:56.580973Z",
     "shell.execute_reply": "2025-04-10T05:49:16.654106Z"
    },
    "colab": {
     "base_uri": "https://localhost:8080/",
     "height": 225
    },
    "collapsed": true,
    "outputId": "1c091107-3d5e-499d-aa78-d4402403fcb3"
   },
   "outputs": [
    {
     "output_type": "stream",
     "name": "stderr",
     "text": [
      "No label_names provided for model class `PeftModelForSequenceClassification`. Since `PeftModel` hides base models input arguments, if label_names is not given, label_names can't be set automatically within `Trainer`. Note that empty label_names list will be used instead.\n"
     ]
    },
    {
     "output_type": "stream",
     "name": "stdout",
     "text": [
      "Using device: cuda\n"
     ]
    },
    {
     "output_type": "display_data",
     "data": {
      "text/plain": [
       "<IPython.core.display.HTML object>"
      ],
      "text/html": [
       "\n",
       "    <div>\n",
       "      \n",
       "      <progress value='11190' max='11190' style='width:300px; height:20px; vertical-align: middle;'></progress>\n",
       "      [11190/11190 52:03, Epoch 3/3]\n",
       "    </div>\n",
       "    <table border=\"1\" class=\"dataframe\">\n",
       "  <thead>\n",
       " <tr style=\"text-align: left;\">\n",
       "      <th>Epoch</th>\n",
       "      <th>Training Loss</th>\n",
       "      <th>Validation Loss</th>\n",
       "      <th>Accuracy</th>\n",
       "    </tr>\n",
       "  </thead>\n",
       "  <tbody>\n",
       "    <tr>\n",
       "      <td>1</td>\n",
       "      <td>0.219900</td>\n",
       "      <td>0.223895</td>\n",
       "      <td>0.915625</td>\n",
       "    </tr>\n",
       "    <tr>\n",
       "      <td>2</td>\n",
       "      <td>0.197500</td>\n",
       "      <td>0.214720</td>\n",
       "      <td>0.926562</td>\n",
       "    </tr>\n",
       "    <tr>\n",
       "      <td>3</td>\n",
       "      <td>0.187600</td>\n",
       "      <td>0.204504</td>\n",
       "      <td>0.931250</td>\n",
       "    </tr>\n",
       "  </tbody>\n",
       "</table><p>"
      ]
     },
     "metadata": {}
    }
   ],
   "execution_count": 29
  },
  {
   "id": "5183be7e-514f-4e64-a6f4-314a827e6be5",
   "cell_type": "markdown",
   "source": [
    "## Evaluate Finetuned Model\n"
   ],
   "metadata": {
    "id": "5183be7e-514f-4e64-a6f4-314a827e6be5"
   }
  },
  {
   "id": "038198cf-0953-47e7-bd47-b073d05f8378",
   "cell_type": "markdown",
   "source": [
    "### Performing Inference on Custom Input\n",
    "Uncomment following functions for running inference on custom inputs"
   ],
   "metadata": {
    "id": "038198cf-0953-47e7-bd47-b073d05f8378"
   }
  },
  {
   "id": "f88ad420-3f46-4eff-9d71-0ce388163062",
   "cell_type": "code",
   "source": [
    "def classify(model, tokenizer, text):\n",
    "    device = torch.device(\"cuda\" if torch.cuda.is_available() else \"cpu\")\n",
    "    inputs = tokenizer(text, truncation=True, padding=True, return_tensors=\"pt\").to(device)\n",
    "    output = model(**inputs)\n",
    "\n",
    "    prediction = output.logits.argmax(dim=-1).item()\n",
    "\n",
    "    print(f'\\n Class: {prediction}, Label: {id2label[prediction]}, Text: {text}')\n",
    "    return id2label[prediction]"
   ],
   "metadata": {
    "id": "f88ad420-3f46-4eff-9d71-0ce388163062",
    "trusted": true,
    "execution": {
     "iopub.status.busy": "2025-04-10T05:49:16.655950Z",
     "iopub.status.idle": "2025-04-10T05:49:16.656210Z",
     "shell.execute_reply": "2025-04-10T05:49:16.656096Z"
    }
   },
   "outputs": [],
   "execution_count": 30
  },
  {
   "id": "fc52bb94-5e13-4943-9225-a6d7fd053579",
   "cell_type": "code",
   "source": [
    "classify( peft_model, tokenizer, \"Kederis proclaims innocence Olympic champion Kostas Kederis today left hospital ahead of his date with IOC inquisitors claiming his ...\")\n",
    "classify( peft_model, tokenizer, \"Wall St. Bears Claw Back Into the Black (Reuters) Reuters - Short-sellers, Wall Street's dwindling\\band of ultra-cynics, are seeing green again.\")"
   ],
   "metadata": {
    "id": "fc52bb94-5e13-4943-9225-a6d7fd053579",
    "trusted": true,
    "execution": {
     "iopub.status.busy": "2025-04-10T05:49:16.657204Z",
     "iopub.status.idle": "2025-04-10T05:49:16.657531Z",
     "shell.execute_reply": "2025-04-10T05:49:16.657416Z"
    },
    "colab": {
     "base_uri": "https://localhost:8080/",
     "height": 127
    },
    "outputId": "5e63f140-7619-4bb0-e231-61e6f0a97e5a"
   },
   "outputs": [
    {
     "output_type": "stream",
     "name": "stdout",
     "text": [
      "\n",
      " Class: 1, Label: Sports, Text: Kederis proclaims innocence Olympic champion Kostas Kederis today left hospital ahead of his date with IOC inquisitors claiming his ...\n",
      "\n",
      " Class: 2, Label: Business, Text: Wall St. Bears Claw Back Into the Black (Reuters) Reuters - Short-sellers, Wall Street's dwindling\band of ultra-cynics, are seeing green again.\n"
     ]
    },
    {
     "output_type": "execute_result",
     "data": {
      "text/plain": [
       "'Business'"
      ],
      "application/vnd.google.colaboratory.intrinsic+json": {
       "type": "string"
      }
     },
     "metadata": {},
     "execution_count": 31
    }
   ],
   "execution_count": 31
  },
  {
   "id": "68a3e276-bf8c-4403-8a48-5ef19f2beccf",
   "cell_type": "markdown",
   "source": [
    "### Run Inference on eval_dataset"
   ],
   "metadata": {
    "id": "68a3e276-bf8c-4403-8a48-5ef19f2beccf"
   }
  },
  {
   "id": "ebbc20a2-a1c0-4cb7-b842-f52e4de61ed5",
   "cell_type": "code",
   "source": [
    "from torch.utils.data import DataLoader\n",
    "import evaluate\n",
    "from tqdm import tqdm\n",
    "\n",
    "def evaluate_model(inference_model, dataset, labelled=True, batch_size=8, data_collator=None):\n",
    "    \"\"\"\n",
    "    Evaluate a PEFT model on a dataset.\n",
    "\n",
    "    Args:\n",
    "        inference_model: The model to evaluate.\n",
    "        dataset: The dataset (Hugging Face Dataset) to run inference on.\n",
    "        labelled (bool): If True, the dataset includes labels and metrics will be computed.\n",
    "                         If False, only predictions will be returned.\n",
    "        batch_size (int): Batch size for inference.\n",
    "        data_collator: Function to collate batches. If None, the default collate_fn is used.\n",
    "\n",
    "    Returns:\n",
    "        If labelled is True, returns a tuple (metrics, predictions)\n",
    "        If labelled is False, returns the predictions.\n",
    "    \"\"\"\n",
    "    # Create the DataLoader\n",
    "    eval_dataloader = DataLoader(dataset, batch_size=batch_size, collate_fn=data_collator)\n",
    "    device = torch.device(\"cuda\" if torch.cuda.is_available() else \"cpu\")\n",
    "\n",
    "    inference_model.to(device)\n",
    "    inference_model.eval()\n",
    "\n",
    "    all_predictions = []\n",
    "    if labelled:\n",
    "        metric = evaluate.load('accuracy')\n",
    "\n",
    "    # Loop over the DataLoader\n",
    "    for batch in tqdm(eval_dataloader):\n",
    "        # Move each tensor in the batch to the device\n",
    "        batch = {k: v.to(device) for k, v in batch.items()}\n",
    "        with torch.no_grad():\n",
    "            outputs = inference_model(**batch)\n",
    "        predictions = outputs.logits.argmax(dim=-1)\n",
    "        all_predictions.append(predictions.cpu())\n",
    "\n",
    "        if labelled:\n",
    "            # Expecting that labels are provided under the \"labels\" key.\n",
    "            references = batch[\"labels\"]\n",
    "            metric.add_batch(\n",
    "                predictions=predictions.cpu().numpy(),\n",
    "                references=references.cpu().numpy()\n",
    "            )\n",
    "\n",
    "    # Concatenate predictions from all batches\n",
    "    all_predictions = torch.cat(all_predictions, dim=0)\n",
    "\n",
    "    if labelled:\n",
    "        eval_metric = metric.compute()\n",
    "        print(\"Evaluation Metric:\", eval_metric)\n",
    "        return eval_metric, all_predictions\n",
    "    else:\n",
    "        return all_predictions"
   ],
   "metadata": {
    "id": "ebbc20a2-a1c0-4cb7-b842-f52e4de61ed5",
    "trusted": true,
    "execution": {
     "iopub.status.busy": "2025-04-10T05:49:16.658449Z",
     "iopub.status.idle": "2025-04-10T05:49:16.658740Z",
     "shell.execute_reply": "2025-04-10T05:49:16.658619Z"
    }
   },
   "outputs": [],
   "execution_count": 32
  },
  {
   "id": "809635a6-a2c7-4d09-8d60-ababd1815003",
   "cell_type": "code",
   "source": [
    "# Check evaluation accuracy\n",
    "_, _ = evaluate_model(peft_model, eval_dataset, True, 8, data_collator)"
   ],
   "metadata": {
    "id": "809635a6-a2c7-4d09-8d60-ababd1815003",
    "trusted": true,
    "execution": {
     "iopub.status.busy": "2025-04-10T05:49:16.659303Z",
     "iopub.status.idle": "2025-04-10T05:49:16.659672Z",
     "shell.execute_reply": "2025-04-10T05:49:16.659522Z"
    },
    "colab": {
     "base_uri": "https://localhost:8080/"
    },
    "outputId": "beb76fb4-e25d-4e9a-e74c-94a65ef0faf5"
   },
   "outputs": [
    {
     "output_type": "stream",
     "name": "stderr",
     "text": [
      "100%|\u2588\u2588\u2588\u2588\u2588\u2588\u2588\u2588\u2588\u2588| 80/80 [00:03<00:00, 26.13it/s]"
     ]
    },
    {
     "output_type": "stream",
     "name": "stdout",
     "text": [
      "Evaluation Metric: {'accuracy': 0.93125}\n"
     ]
    },
    {
     "output_type": "stream",
     "name": "stderr",
     "text": [
      "\n"
     ]
    }
   ],
   "execution_count": 33
  },
  {
   "id": "75f39087-f2bb-49d3-9fe1-0d812fb30203",
   "cell_type": "markdown",
   "source": [
    "### Run Inference on unlabelled dataset"
   ],
   "metadata": {
    "id": "75f39087-f2bb-49d3-9fe1-0d812fb30203"
   }
  },
  {
   "id": "2af62541-2c33-4f16-bb1c-cc969c715cd7",
   "cell_type": "code",
   "source": [
    "#Load your unlabelled data\n",
    "unlabelled_dataset = pd.read_pickle(\"test_unlabelled.pkl\")\n",
    "test_dataset = unlabelled_dataset.map(preprocess, batched=True, remove_columns=[\"text\"])\n",
    "unlabelled_dataset"
   ],
   "metadata": {
    "id": "2af62541-2c33-4f16-bb1c-cc969c715cd7",
    "trusted": true,
    "execution": {
     "iopub.status.busy": "2025-04-10T05:49:16.660555Z",
     "iopub.status.idle": "2025-04-10T05:49:16.660890Z",
     "shell.execute_reply": "2025-04-10T05:49:16.660775Z"
    },
    "colab": {
     "base_uri": "https://localhost:8080/",
     "height": 120,
     "referenced_widgets": [
      "5ef67a5c47ef42f39dcf3b89a0e79869",
      "774e24bd687f4361a723397b3d9795a0",
      "8f78262a00d042dc85ff75d998b4c671",
      "47e1bdff13684df986168a6a789e9b34",
      "056db7ebfd9e41cf9e6c90b5b4ea213f",
      "9aebc3034d774ea588469bda6d164b51",
      "394f3ce4bf5244be9a82ff4ffa3016ba",
      "82004fd7269d44dda7234c9278cf84cc",
      "2024e747d91b497185f508020c5b55f4",
      "6194b854d3a64df0905a47799cf488aa",
      "b4db8b6af87649ee94f44eb924c5bc94"
     ]
    },
    "outputId": "b80b1e1e-517f-4064-8ac7-2e2967735896"
   },
   "outputs": [
    {
     "output_type": "display_data",
     "data": {
      "text/plain": [
       "Map:   0%|          | 0/8000 [00:00<?, ? examples/s]"
      ],
      "application/vnd.jupyter.widget-view+json": {
       "version_major": 2,
       "version_minor": 0,
       "model_id": "5ef67a5c47ef42f39dcf3b89a0e79869"
      }
     },
     "metadata": {}
    },
    {
     "output_type": "execute_result",
     "data": {
      "text/plain": [
       "Dataset({\n",
       "    features: ['text'],\n",
       "    num_rows: 8000\n",
       "})"
      ]
     },
     "metadata": {},
     "execution_count": 34
    }
   ],
   "execution_count": 34
  },
  {
   "id": "e60991d3-38b1-4657-8854-408ce66f6b84",
   "cell_type": "code",
   "source": [
    "# Run inference and save predictions\n",
    "preds = evaluate_model(peft_model, test_dataset, False, 8, data_collator)\n",
    "df_output = pd.DataFrame({\n",
    "    'ID': range(len(preds)),\n",
    "    'Label': preds.numpy()  # or preds.tolist()\n",
    "})\n",
    "df_output.to_csv(os.path.join(output_dir,\"inference_output.csv\"), index=False)\n",
    "print(\"Inference complete. Predictions saved to inference_output.csv\")"
   ],
   "metadata": {
    "id": "e60991d3-38b1-4657-8854-408ce66f6b84",
    "trusted": true,
    "execution": {
     "iopub.status.busy": "2025-04-10T05:49:16.661506Z",
     "iopub.status.idle": "2025-04-10T05:49:16.661833Z",
     "shell.execute_reply": "2025-04-10T05:49:16.661703Z"
    },
    "colab": {
     "base_uri": "https://localhost:8080/"
    },
    "outputId": "6c0d840f-2e8c-4d47-c43d-a0a81dd60f9c"
   },
   "outputs": [
    {
     "output_type": "stream",
     "name": "stderr",
     "text": [
      "100%|\u2588\u2588\u2588\u2588\u2588\u2588\u2588\u2588\u2588\u2588| 1000/1000 [00:29<00:00, 33.35it/s]"
     ]
    },
    {
     "output_type": "stream",
     "name": "stdout",
     "text": [
      "Inference complete. Predictions saved to inference_output.csv\n"
     ]
    },
    {
     "output_type": "stream",
     "name": "stderr",
     "text": [
      "\n"
     ]
    }
   ],
   "execution_count": 35
  }
 ]
}